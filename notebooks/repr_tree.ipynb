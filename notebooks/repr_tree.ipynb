{
 "cells": [
  {
   "cell_type": "code",
   "execution_count": 1,
   "metadata": {},
   "outputs": [
    {
     "data": {
      "text/plain": [
       "'2.3.3.dev9+dirty'"
      ]
     },
     "execution_count": 1,
     "metadata": {},
     "output_type": "execute_result"
    }
   ],
   "source": [
    "import zarr\n",
    "zarr.__version__"
   ]
  },
  {
   "cell_type": "code",
   "execution_count": 2,
   "metadata": {},
   "outputs": [],
   "source": [
    "g1 = zarr.group()\n",
    "g2 = g1.create_group('foo')\n",
    "g3 = g1.create_group('bar')\n",
    "g3.create_group('baz')\n",
    "g3.create_dataset('xxx', shape=100)\n",
    "g3.create_dataset('yyy', shape=(100, 100), dtype='i4')\n",
    "g5 = g3.create_group('quux')\n",
    "g5.create_dataset('aaa', shape=100)\n",
    "g5.create_dataset('bbb', shape=(100, 100), dtype='i4')\n",
    "g7 = g3.create_group('zoo')"
   ]
  },
  {
   "cell_type": "markdown",
   "metadata": {},
   "source": [
    "Generate text (unicode) tree:"
   ]
  },
  {
   "cell_type": "code",
   "execution_count": 3,
   "metadata": {},
   "outputs": [
    {
     "name": "stdout",
     "output_type": "stream",
     "text": [
      "/\n",
      " ├── bar\n",
      " │   ├── baz\n",
      " │   ├── quux\n",
      " │   │   ├── aaa (100,) float64\n",
      " │   │   └── bbb (100, 100) int32\n",
      " │   ├── xxx (100,) float64\n",
      " │   ├── yyy (100, 100) int32\n",
      " │   └── zoo\n",
      " └── foo\n"
     ]
    }
   ],
   "source": [
    "print(g1.tree())"
   ]
  },
  {
   "cell_type": "markdown",
   "metadata": {},
   "source": [
    "The ``level`` parameter controls how deep the tree is."
   ]
  },
  {
   "cell_type": "code",
   "execution_count": 4,
   "metadata": {},
   "outputs": [
    {
     "name": "stdout",
     "output_type": "stream",
     "text": [
      "/\n",
      " ├── bar\n",
      " └── foo\n"
     ]
    }
   ],
   "source": [
    "print(g1.tree(level=1))"
   ]
  },
  {
   "cell_type": "code",
   "execution_count": 5,
   "metadata": {},
   "outputs": [
    {
     "name": "stdout",
     "output_type": "stream",
     "text": [
      "/\n",
      " ├── bar\n",
      " │   ├── baz\n",
      " │   ├── quux\n",
      " │   ├── xxx (100,) float64\n",
      " │   ├── yyy (100, 100) int32\n",
      " │   └── zoo\n",
      " └── foo\n"
     ]
    }
   ],
   "source": [
    "print(g1.tree(level=2))"
   ]
  },
  {
   "cell_type": "markdown",
   "metadata": {},
   "source": [
    "Alternative plain ASCII tree:"
   ]
  },
  {
   "cell_type": "code",
   "execution_count": 6,
   "metadata": {},
   "outputs": [
    {
     "name": "stdout",
     "output_type": "stream",
     "text": [
      "/\n",
      " +-- bar\n",
      " |   +-- baz\n",
      " |   +-- quux\n",
      " |   |   +-- aaa (100,) float64\n",
      " |   |   +-- bbb (100, 100) int32\n",
      " |   +-- xxx (100,) float64\n",
      " |   +-- yyy (100, 100) int32\n",
      " |   +-- zoo\n",
      " +-- foo\n"
     ]
    }
   ],
   "source": [
    "print(bytes(g1.tree()).decode())"
   ]
  },
  {
   "cell_type": "markdown",
   "metadata": {},
   "source": [
    "HTML trees:"
   ]
  },
  {
   "cell_type": "code",
   "execution_count": 7,
   "metadata": {},
   "outputs": [
    {
     "data": {
      "application/vnd.jupyter.widget-view+json": {
       "model_id": "7e9f0590b9954aad8c29712a674f1694",
       "version_major": 2,
       "version_minor": 0
      },
      "text/plain": [
       "Tree(nodes=(Node(name='/', nodes=(Node(name='bar', nodes=(Node(name='baz', opened=False), Node(name='quux', no…"
      ]
     },
     "metadata": {},
     "output_type": "display_data"
    }
   ],
   "source": [
    "g1.tree()"
   ]
  },
  {
   "cell_type": "markdown",
   "metadata": {},
   "source": [
    "Use ``expand=True`` to have all groups automatically expanded."
   ]
  },
  {
   "cell_type": "code",
   "execution_count": 8,
   "metadata": {},
   "outputs": [
    {
     "data": {
      "application/vnd.jupyter.widget-view+json": {
       "model_id": "2245675536c84cb8a4bab567071be3fa",
       "version_major": 2,
       "version_minor": 0
      },
      "text/plain": [
       "Tree(nodes=(Node(name='/', nodes=(Node(name='bar', nodes=(Node(name='baz', opened=False), Node(name='quux', no…"
      ]
     },
     "metadata": {},
     "output_type": "display_data"
    }
   ],
   "source": [
    "g1.tree(expand=True)"
   ]
  },
  {
   "cell_type": "code",
   "execution_count": 9,
   "metadata": {},
   "outputs": [
    {
     "data": {
      "application/vnd.jupyter.widget-view+json": {
       "model_id": "a2eaafea0898431bbe4016bf09034167",
       "version_major": 2,
       "version_minor": 0
      },
      "text/plain": [
       "Tree(nodes=(Node(name='/', nodes=(Node(name='bar', nodes=(Node(name='baz', opened=False), Node(name='quux', op…"
      ]
     },
     "metadata": {},
     "output_type": "display_data"
    }
   ],
   "source": [
    "g1.tree(expand=True, level=2)"
   ]
  },
  {
   "cell_type": "code",
   "execution_count": 10,
   "metadata": {},
   "outputs": [
    {
     "data": {
      "application/vnd.jupyter.widget-view+json": {
       "model_id": "5011dcaf15c44103bc8668298ecfa015",
       "version_major": 2,
       "version_minor": 0
      },
      "text/plain": [
       "Tree(nodes=(Node(name='/', nodes=(Node(name='bar'), Node(name='foo'))),))"
      ]
     },
     "metadata": {},
     "output_type": "display_data"
    }
   ],
   "source": [
    "g1.tree(expand=True, level=1)"
   ]
  },
  {
   "cell_type": "markdown",
   "metadata": {},
   "source": [
    "The ``expand`` parameter can also be an integer, giving the depth to expand to."
   ]
  },
  {
   "cell_type": "code",
   "execution_count": 11,
   "metadata": {},
   "outputs": [
    {
     "data": {
      "application/vnd.jupyter.widget-view+json": {
       "model_id": "3495fec07fde4c7aa4a2af1ce66f1870",
       "version_major": 2,
       "version_minor": 0
      },
      "text/plain": [
       "Tree(nodes=(Node(name='/', nodes=(Node(name='bar', nodes=(Node(name='baz', opened=False), Node(name='quux', no…"
      ]
     },
     "metadata": {},
     "output_type": "display_data"
    }
   ],
   "source": [
    "g1.tree(expand=1)"
   ]
  },
  {
   "cell_type": "code",
   "execution_count": 12,
   "metadata": {},
   "outputs": [
    {
     "data": {
      "application/vnd.jupyter.widget-view+json": {
       "model_id": "9fd290b23f0a4ab1aef4d228c0eb7f7f",
       "version_major": 2,
       "version_minor": 0
      },
      "text/plain": [
       "Tree(nodes=(Node(name='/', nodes=(Node(name='bar', nodes=(Node(name='baz', opened=False), Node(name='quux', no…"
      ]
     },
     "metadata": {},
     "output_type": "display_data"
    }
   ],
   "source": [
    "g1.tree(expand=2)"
   ]
  },
  {
   "cell_type": "code",
   "execution_count": 13,
   "metadata": {},
   "outputs": [
    {
     "data": {
      "application/vnd.jupyter.widget-view+json": {
       "model_id": "ddd8aff74c8041f9ab41a814e13fe273",
       "version_major": 2,
       "version_minor": 0
      },
      "text/plain": [
       "Tree(nodes=(Node(name='/', nodes=(Node(name='bar', nodes=(Node(name='baz', opened=False), Node(name='quux', no…"
      ]
     },
     "metadata": {},
     "output_type": "display_data"
    }
   ],
   "source": [
    "g1.tree(expand=3)"
   ]
  },
  {
   "cell_type": "code",
   "execution_count": null,
   "metadata": {},
   "outputs": [],
   "source": []
  }
 ],
 "metadata": {
  "kernelspec": {
   "display_name": "Python 3",
   "language": "python",
   "name": "python3"
  },
  "language_info": {
   "codemirror_mode": {
    "name": "ipython",
    "version": 3
   },
   "file_extension": ".py",
   "mimetype": "text/x-python",
   "name": "python",
   "nbconvert_exporter": "python",
   "pygments_lexer": "ipython3",
   "version": "3.7.2"
  },
  "widgets": {
   "application/vnd.jupyter.widget-state+json": {
    "state": {
     "056bd3b065c04645a37bd93f404fdcc9": {
      "model_module": "ipytree",
      "model_module_version": "0.1.3",
      "model_name": "NodeModel",
      "state": {
       "_id": "4ef1f64c-e220-42b9-bb5e-51acc678cfb7",
       "_model_module_version": "0.1.3",
       "_view_module_version": "0.1.3",
       "name": "bar",
       "nodes": [
        "IPY_MODEL_58d789ffee0a4c49bdcda3deb1874384",
        "IPY_MODEL_c17f1332e5fa421885fc516b8c7c6bf7",
        "IPY_MODEL_f52c926d523246c182692735e19b190a",
        "IPY_MODEL_36e9a012e6ff469780900c20d04806fd",
        "IPY_MODEL_1a29b86d7d4d4c8180242996a577060f"
       ]
      }
     },
     "1348a37d44344fb7ab762c45adb0f5ea": {
      "model_module": "ipytree",
      "model_module_version": "0.1.3",
      "model_name": "NodeModel",
      "state": {
       "_id": "51506ca0-ae95-465a-a659-cf003b76482f",
       "_model_module_version": "0.1.3",
       "_view_module_version": "0.1.3",
       "icon": "table",
       "name": "aaa (100,) float64",
       "opened": false
      }
     },
     "1a29b86d7d4d4c8180242996a577060f": {
      "model_module": "ipytree",
      "model_module_version": "0.1.3",
      "model_name": "NodeModel",
      "state": {
       "_id": "0dda3f83-4d3a-4260-baa4-392d251d7050",
       "_model_module_version": "0.1.3",
       "_view_module_version": "0.1.3",
       "name": "zoo",
       "opened": false
      }
     },
     "1b1451af6b58467f9f635cc228131a1e": {
      "model_module": "ipytree",
      "model_module_version": "0.1.3",
      "model_name": "NodeModel",
      "state": {
       "_id": "7cd6a2ef-66b0-4033-b9fd-5012816e4c2a",
       "_model_module_version": "0.1.3",
       "_view_module_version": "0.1.3",
       "icon": "table",
       "name": "bbb (100, 100) int32",
       "opened": false
      }
     },
     "2245675536c84cb8a4bab567071be3fa": {
      "model_module": "ipytree",
      "model_module_version": "0.1.3",
      "model_name": "TreeModel",
      "state": {
       "_model_module_version": "0.1.3",
       "_view_module_version": "0.1.3",
       "layout": "IPY_MODEL_ab8ce9627fc049bfa5305873283b7d5b",
       "nodes": [
        "IPY_MODEL_65093fd2f9a34b998f808f3de77feb62"
       ]
      }
     },
     "2c56e51137404f3c9b7f74e6b66145b9": {
      "model_module": "ipytree",
      "model_module_version": "0.1.3",
      "model_name": "NodeModel",
      "state": {
       "_id": "ae531c07-773f-4ebd-86a9-66e9da32eda8",
       "_model_module_version": "0.1.3",
       "_view_module_version": "0.1.3",
       "name": "foo"
      }
     },
     "3205dbb3b4d8496dbb79b1318fd1160a": {
      "model_module": "ipytree",
      "model_module_version": "0.1.3",
      "model_name": "NodeModel",
      "state": {
       "_id": "5caae8ea-4279-4652-8585-277d96efbd03",
       "_model_module_version": "0.1.3",
       "_view_module_version": "0.1.3",
       "icon": "table",
       "name": "xxx (100,) float64",
       "opened": false
      }
     },
     "3495fec07fde4c7aa4a2af1ce66f1870": {
      "model_module": "ipytree",
      "model_module_version": "0.1.3",
      "model_name": "TreeModel",
      "state": {
       "_model_module_version": "0.1.3",
       "_view_module_version": "0.1.3",
       "layout": "IPY_MODEL_547a01e823ab4e6ab57fa04614a8e162",
       "nodes": [
        "IPY_MODEL_cd85e6730eec4cba8ab7d7634003496f"
       ]
      }
     },
     "362ce831826e492fbe1b42a927032727": {
      "model_module": "ipytree",
      "model_module_version": "0.1.3",
      "model_name": "NodeModel",
      "state": {
       "_id": "1c62773f-3bfb-48e9-9158-d6fe212be543",
       "_model_module_version": "0.1.3",
       "_view_module_version": "0.1.3",
       "icon": "table",
       "name": "aaa (100,) float64",
       "opened": false
      }
     },
     "36e9a012e6ff469780900c20d04806fd": {
      "model_module": "ipytree",
      "model_module_version": "0.1.3",
      "model_name": "NodeModel",
      "state": {
       "_id": "18214179-46fe-46b6-936c-9ba5458cc970",
       "_model_module_version": "0.1.3",
       "_view_module_version": "0.1.3",
       "icon": "table",
       "name": "yyy (100, 100) int32",
       "opened": false
      }
     },
     "3c67d4cf06a64159bd646a1e487415ec": {
      "model_module": "ipytree",
      "model_module_version": "0.1.3",
      "model_name": "NodeModel",
      "state": {
       "_id": "decf93c5-602f-4935-99bc-125746602948",
       "_model_module_version": "0.1.3",
       "_view_module_version": "0.1.3",
       "icon": "table",
       "name": "xxx (100,) float64",
       "opened": false
      }
     },
     "3c7b56a53d4940d3898da404f4356793": {
      "model_module": "ipytree",
      "model_module_version": "0.1.3",
      "model_name": "NodeModel",
      "state": {
       "_id": "8ddd6569-e341-4e45-9e99-42974a9688ad",
       "_model_module_version": "0.1.3",
       "_view_module_version": "0.1.3",
       "name": "quux",
       "nodes": [
        "IPY_MODEL_c0317793455e4bf2bbfd610edde5dfa3",
        "IPY_MODEL_8fc2a9a2911f4a1fa6ce6638723062ee"
       ],
       "opened": false
      }
     },
     "3d5190747c5248399d46ab81731aae32": {
      "model_module": "ipytree",
      "model_module_version": "0.1.3",
      "model_name": "NodeModel",
      "state": {
       "_id": "dd75d751-4062-4741-85ca-3a75a0ae1917",
       "_model_module_version": "0.1.3",
       "_view_module_version": "0.1.3",
       "icon": "table",
       "name": "aaa (100,) float64",
       "opened": false
      }
     },
     "415731cc6a144015beba707fe303a360": {
      "model_module": "@jupyter-widgets/base",
      "model_module_version": "1.2.0",
      "model_name": "LayoutModel",
      "state": {}
     },
     "45e0387f79184f66bf918591bef1b82f": {
      "model_module": "@jupyter-widgets/base",
      "model_module_version": "1.2.0",
      "model_name": "LayoutModel",
      "state": {}
     },
     "4dc2b9cf784d46dc998803d5b421087f": {
      "model_module": "ipytree",
      "model_module_version": "0.1.3",
      "model_name": "NodeModel",
      "state": {
       "_id": "40f3a1b0-9ef6-42e8-ba53-c0194e99f84e",
       "_model_module_version": "0.1.3",
       "_view_module_version": "0.1.3",
       "name": "foo"
      }
     },
     "4e9ab369138848d68e5a1f8ffc2347a9": {
      "model_module": "ipytree",
      "model_module_version": "0.1.3",
      "model_name": "NodeModel",
      "state": {
       "_id": "dac64081-b168-4da2-9206-c39690cf5dd9",
       "_model_module_version": "0.1.3",
       "_view_module_version": "0.1.3",
       "icon": "table",
       "name": "yyy (100, 100) int32",
       "opened": false
      }
     },
     "4ea829bb3f55417a884a17b2d480b856": {
      "model_module": "ipytree",
      "model_module_version": "0.1.3",
      "model_name": "NodeModel",
      "state": {
       "_id": "bf521e5c-0751-49ae-a687-f79e96bf6866",
       "_model_module_version": "0.1.3",
       "_view_module_version": "0.1.3",
       "name": "baz",
       "opened": false
      }
     },
     "5011dcaf15c44103bc8668298ecfa015": {
      "model_module": "ipytree",
      "model_module_version": "0.1.3",
      "model_name": "TreeModel",
      "state": {
       "_model_module_version": "0.1.3",
       "_view_module_version": "0.1.3",
       "layout": "IPY_MODEL_c60a39cecc6f4f318acbb729f5e1a17c",
       "nodes": [
        "IPY_MODEL_baf64689a9d847208f88eabc068e1bfb"
       ]
      }
     },
     "515a3db440fe4470af08a44a0f43c67f": {
      "model_module": "ipytree",
      "model_module_version": "0.1.3",
      "model_name": "NodeModel",
      "state": {
       "_id": "96ae2e7f-2439-49f8-aef8-8533d7cd8c27",
       "_model_module_version": "0.1.3",
       "_view_module_version": "0.1.3",
       "name": "quux",
       "nodes": [
        "IPY_MODEL_362ce831826e492fbe1b42a927032727",
        "IPY_MODEL_e0aa6125dd044bd78193beb1e947dace"
       ],
       "opened": false
      }
     },
     "547a01e823ab4e6ab57fa04614a8e162": {
      "model_module": "@jupyter-widgets/base",
      "model_module_version": "1.2.0",
      "model_name": "LayoutModel",
      "state": {}
     },
     "58d789ffee0a4c49bdcda3deb1874384": {
      "model_module": "ipytree",
      "model_module_version": "0.1.3",
      "model_name": "NodeModel",
      "state": {
       "_id": "a14c921b-7b9f-4f22-8ab6-8fadd9edbecc",
       "_model_module_version": "0.1.3",
       "_view_module_version": "0.1.3",
       "name": "baz",
       "opened": false
      }
     },
     "5acf993b4bdb419199bfd2fade07bc8a": {
      "model_module": "ipytree",
      "model_module_version": "0.1.3",
      "model_name": "NodeModel",
      "state": {
       "_id": "b0a43378-4255-4db7-b70f-09700ace72ec",
       "_model_module_version": "0.1.3",
       "_view_module_version": "0.1.3",
       "name": "zoo",
       "opened": false
      }
     },
     "62906aed72be430fbc6853bc9ff00408": {
      "model_module": "ipytree",
      "model_module_version": "0.1.3",
      "model_name": "NodeModel",
      "state": {
       "_id": "9d8562a4-c4f6-42e7-9d7e-2ee92380e5bf",
       "_model_module_version": "0.1.3",
       "_view_module_version": "0.1.3",
       "icon": "table",
       "name": "yyy (100, 100) int32",
       "opened": false
      }
     },
     "65093fd2f9a34b998f808f3de77feb62": {
      "model_module": "ipytree",
      "model_module_version": "0.1.3",
      "model_name": "NodeModel",
      "state": {
       "_id": "ec0f22a4-fa33-4ca1-8f4b-44a1b7baaa34",
       "_model_module_version": "0.1.3",
       "_view_module_version": "0.1.3",
       "name": "/",
       "nodes": [
        "IPY_MODEL_72c5f3ee3cae43ad89a47eae11b7c729",
        "IPY_MODEL_6be3bdadda7a4d409be8b420e56dbfe3"
       ]
      }
     },
     "6561156f87a54f1c9160815ac57304e6": {
      "model_module": "ipytree",
      "model_module_version": "0.1.3",
      "model_name": "NodeModel",
      "state": {
       "_id": "8cb26c52-61e5-447c-8653-74f6d1acce32",
       "_model_module_version": "0.1.3",
       "_view_module_version": "0.1.3",
       "name": "bar",
       "nodes": [
        "IPY_MODEL_d4b59076d61b4a6686ca8448519599a6",
        "IPY_MODEL_ef832c48acf8492c8c969b347331a68f",
        "IPY_MODEL_3c67d4cf06a64159bd646a1e487415ec",
        "IPY_MODEL_be4ab20e5f4c4f12893affa038f4e555",
        "IPY_MODEL_b542e7b7c1d44af085f7a47397715b11"
       ]
      }
     },
     "6be3bdadda7a4d409be8b420e56dbfe3": {
      "model_module": "ipytree",
      "model_module_version": "0.1.3",
      "model_name": "NodeModel",
      "state": {
       "_id": "816294e0-7f16-4de3-b2ba-71ae173d50cb",
       "_model_module_version": "0.1.3",
       "_view_module_version": "0.1.3",
       "name": "foo"
      }
     },
     "6cb914863f604e8a846ad150adb5c44d": {
      "model_module": "ipytree",
      "model_module_version": "0.1.3",
      "model_name": "NodeModel",
      "state": {
       "_id": "f6d1fc2d-a169-4f07-99f1-a854aaa85adc",
       "_model_module_version": "0.1.3",
       "_view_module_version": "0.1.3",
       "name": "/",
       "nodes": [
        "IPY_MODEL_ef360e92a57b46fdb38a682379935a3f",
        "IPY_MODEL_8ee74df73f1e4e5e93da1626119f396c"
       ]
      }
     },
     "72c5f3ee3cae43ad89a47eae11b7c729": {
      "model_module": "ipytree",
      "model_module_version": "0.1.3",
      "model_name": "NodeModel",
      "state": {
       "_id": "ae670560-5e38-4c2e-8927-71a3ea8aaff0",
       "_model_module_version": "0.1.3",
       "_view_module_version": "0.1.3",
       "name": "bar",
       "nodes": [
        "IPY_MODEL_4ea829bb3f55417a884a17b2d480b856",
        "IPY_MODEL_515a3db440fe4470af08a44a0f43c67f",
        "IPY_MODEL_3205dbb3b4d8496dbb79b1318fd1160a",
        "IPY_MODEL_a4d72de6749a445fb3bba84c64d4dbf5",
        "IPY_MODEL_5acf993b4bdb419199bfd2fade07bc8a"
       ]
      }
     },
     "7e9f0590b9954aad8c29712a674f1694": {
      "model_module": "ipytree",
      "model_module_version": "0.1.3",
      "model_name": "TreeModel",
      "state": {
       "_model_module_version": "0.1.3",
       "_view_module_version": "0.1.3",
       "layout": "IPY_MODEL_ea33d000c03f41ffbebf5b5b36cf81dc",
       "nodes": [
        "IPY_MODEL_6cb914863f604e8a846ad150adb5c44d"
       ]
      }
     },
     "8ee74df73f1e4e5e93da1626119f396c": {
      "model_module": "ipytree",
      "model_module_version": "0.1.3",
      "model_name": "NodeModel",
      "state": {
       "_id": "718f1c45-6682-4b57-a664-f62932d28995",
       "_model_module_version": "0.1.3",
       "_view_module_version": "0.1.3",
       "name": "foo",
       "opened": false
      }
     },
     "8fc2a9a2911f4a1fa6ce6638723062ee": {
      "model_module": "ipytree",
      "model_module_version": "0.1.3",
      "model_name": "NodeModel",
      "state": {
       "_id": "30c09a71-bd63-4b60-8c70-02c0ff27410b",
       "_model_module_version": "0.1.3",
       "_view_module_version": "0.1.3",
       "icon": "table",
       "name": "bbb (100, 100) int32",
       "opened": false
      }
     },
     "938101b790c34de6b8f3e3f5bb677311": {
      "model_module": "ipytree",
      "model_module_version": "0.1.3",
      "model_name": "NodeModel",
      "state": {
       "_id": "d0468b5d-60d4-4d2b-a5eb-008b6bb10ddd",
       "_model_module_version": "0.1.3",
       "_view_module_version": "0.1.3",
       "name": "quux",
       "nodes": [
        "IPY_MODEL_1348a37d44344fb7ab762c45adb0f5ea",
        "IPY_MODEL_1b1451af6b58467f9f635cc228131a1e"
       ],
       "opened": false
      }
     },
     "9fd290b23f0a4ab1aef4d228c0eb7f7f": {
      "model_module": "ipytree",
      "model_module_version": "0.1.3",
      "model_name": "TreeModel",
      "state": {
       "_model_module_version": "0.1.3",
       "_view_module_version": "0.1.3",
       "layout": "IPY_MODEL_415731cc6a144015beba707fe303a360",
       "nodes": [
        "IPY_MODEL_a1113fd6e7ff44a79ed44264c3ef9185"
       ]
      }
     },
     "a1113fd6e7ff44a79ed44264c3ef9185": {
      "model_module": "ipytree",
      "model_module_version": "0.1.3",
      "model_name": "NodeModel",
      "state": {
       "_id": "906496bb-f773-4fa0-b1b2-0906cd184470",
       "_model_module_version": "0.1.3",
       "_view_module_version": "0.1.3",
       "name": "/",
       "nodes": [
        "IPY_MODEL_6561156f87a54f1c9160815ac57304e6",
        "IPY_MODEL_2c56e51137404f3c9b7f74e6b66145b9"
       ]
      }
     },
     "a2eaafea0898431bbe4016bf09034167": {
      "model_module": "ipytree",
      "model_module_version": "0.1.3",
      "model_name": "TreeModel",
      "state": {
       "_model_module_version": "0.1.3",
       "_view_module_version": "0.1.3",
       "layout": "IPY_MODEL_b48d025a006444389d07bc93e92f41ce",
       "nodes": [
        "IPY_MODEL_e5666a43d9bd4068ad5243b57f920848"
       ]
      }
     },
     "a4d72de6749a445fb3bba84c64d4dbf5": {
      "model_module": "ipytree",
      "model_module_version": "0.1.3",
      "model_name": "NodeModel",
      "state": {
       "_id": "bc5c30c7-a863-41a9-a0ec-d0f45ba2f61d",
       "_model_module_version": "0.1.3",
       "_view_module_version": "0.1.3",
       "icon": "table",
       "name": "yyy (100, 100) int32",
       "opened": false
      }
     },
     "a7b1fd2e52bc43baa399cf67958a480c": {
      "model_module": "ipytree",
      "model_module_version": "0.1.3",
      "model_name": "NodeModel",
      "state": {
       "_id": "cee7c0d3-9bf2-4fac-8586-4a44182f6695",
       "_model_module_version": "0.1.3",
       "_view_module_version": "0.1.3",
       "icon": "table",
       "name": "bbb (100, 100) int32",
       "opened": false
      }
     },
     "a96e8897c5704b13a2f6bced17596ad5": {
      "model_module": "ipytree",
      "model_module_version": "0.1.3",
      "model_name": "NodeModel",
      "state": {
       "_id": "e1ab09e4-6b18-4c91-b665-88a8be8f6193",
       "_model_module_version": "0.1.3",
       "_view_module_version": "0.1.3",
       "name": "/",
       "nodes": [
        "IPY_MODEL_f3bacdf954364630a7edfcfa2ec33a36",
        "IPY_MODEL_c4ecd3f191a94304b79a4ce7b72a2079"
       ]
      }
     },
     "ab8ce9627fc049bfa5305873283b7d5b": {
      "model_module": "@jupyter-widgets/base",
      "model_module_version": "1.2.0",
      "model_name": "LayoutModel",
      "state": {}
     },
     "ac5cd15deca54a3a922f3d6aa8b373d9": {
      "model_module": "ipytree",
      "model_module_version": "0.1.3",
      "model_name": "NodeModel",
      "state": {
       "_id": "e19367e4-c210-49a1-af6f-f9f81d81de31",
       "_model_module_version": "0.1.3",
       "_view_module_version": "0.1.3",
       "name": "baz",
       "opened": false
      }
     },
     "b17db6d5c7d2451fbe3b6eade16ae184": {
      "model_module": "ipytree",
      "model_module_version": "0.1.3",
      "model_name": "NodeModel",
      "state": {
       "_id": "5391ea49-4714-4a22-a502-324dc4a3dbf6",
       "_model_module_version": "0.1.3",
       "_view_module_version": "0.1.3",
       "icon": "table",
       "name": "xxx (100,) float64",
       "opened": false
      }
     },
     "b48d025a006444389d07bc93e92f41ce": {
      "model_module": "@jupyter-widgets/base",
      "model_module_version": "1.2.0",
      "model_name": "LayoutModel",
      "state": {}
     },
     "b542e7b7c1d44af085f7a47397715b11": {
      "model_module": "ipytree",
      "model_module_version": "0.1.3",
      "model_name": "NodeModel",
      "state": {
       "_id": "648a923d-0bf4-465a-9b87-42e879b8afd7",
       "_model_module_version": "0.1.3",
       "_view_module_version": "0.1.3",
       "name": "zoo",
       "opened": false
      }
     },
     "b77003641dff432b992644b482c83a8b": {
      "model_module": "ipytree",
      "model_module_version": "0.1.3",
      "model_name": "NodeModel",
      "state": {
       "_id": "03444112-af12-487d-9e73-6376cca8ab63",
       "_model_module_version": "0.1.3",
       "_view_module_version": "0.1.3",
       "name": "quux",
       "nodes": [
        "IPY_MODEL_3d5190747c5248399d46ab81731aae32",
        "IPY_MODEL_a7b1fd2e52bc43baa399cf67958a480c"
       ],
       "opened": false
      }
     },
     "baf64689a9d847208f88eabc068e1bfb": {
      "model_module": "ipytree",
      "model_module_version": "0.1.3",
      "model_name": "NodeModel",
      "state": {
       "_id": "eebe499f-c201-4a5c-b669-79e5790a7392",
       "_model_module_version": "0.1.3",
       "_view_module_version": "0.1.3",
       "name": "/",
       "nodes": [
        "IPY_MODEL_e0764c4db56b4a6aa6a8e7fd890895a3",
        "IPY_MODEL_4dc2b9cf784d46dc998803d5b421087f"
       ]
      }
     },
     "bb0c7bb24c9d4e4eb5541331f52a2e3a": {
      "model_module": "ipytree",
      "model_module_version": "0.1.3",
      "model_name": "NodeModel",
      "state": {
       "_id": "cb52734b-e510-487e-bf57-ce44f13420fb",
       "_model_module_version": "0.1.3",
       "_view_module_version": "0.1.3",
       "name": "zoo",
       "opened": false
      }
     },
     "bb791db0ac9143d38dbc6992e403025e": {
      "model_module": "ipytree",
      "model_module_version": "0.1.3",
      "model_name": "NodeModel",
      "state": {
       "_id": "d6625b13-e71e-4237-bca9-98ffbf29f6fd",
       "_model_module_version": "0.1.3",
       "_view_module_version": "0.1.3",
       "icon": "table",
       "name": "xxx (100,) float64",
       "opened": false
      }
     },
     "be1e35fd5ccc4a22a1c51d0a1f9b9d0d": {
      "model_module": "ipytree",
      "model_module_version": "0.1.3",
      "model_name": "NodeModel",
      "state": {
       "_id": "2065245e-e6ed-4f2b-ae25-7e0f6eb5cb99",
       "_model_module_version": "0.1.3",
       "_view_module_version": "0.1.3",
       "icon": "table",
       "name": "yyy (100, 100) int32",
       "opened": false
      }
     },
     "be4ab20e5f4c4f12893affa038f4e555": {
      "model_module": "ipytree",
      "model_module_version": "0.1.3",
      "model_name": "NodeModel",
      "state": {
       "_id": "72441328-7e0e-444a-8246-3ebf060107c1",
       "_model_module_version": "0.1.3",
       "_view_module_version": "0.1.3",
       "icon": "table",
       "name": "yyy (100, 100) int32",
       "opened": false
      }
     },
     "c0317793455e4bf2bbfd610edde5dfa3": {
      "model_module": "ipytree",
      "model_module_version": "0.1.3",
      "model_name": "NodeModel",
      "state": {
       "_id": "b65bd192-539e-46b8-a610-38fd84735eb8",
       "_model_module_version": "0.1.3",
       "_view_module_version": "0.1.3",
       "icon": "table",
       "name": "aaa (100,) float64",
       "opened": false
      }
     },
     "c17f1332e5fa421885fc516b8c7c6bf7": {
      "model_module": "ipytree",
      "model_module_version": "0.1.3",
      "model_name": "NodeModel",
      "state": {
       "_id": "3887f57d-f342-48a6-8aa8-9a76307bdf95",
       "_model_module_version": "0.1.3",
       "_view_module_version": "0.1.3",
       "name": "quux",
       "opened": false
      }
     },
     "c3febb160f6142f987ffe802fe050c9b": {
      "model_module": "ipytree",
      "model_module_version": "0.1.3",
      "model_name": "NodeModel",
      "state": {
       "_id": "a918f6cd-a804-4832-bab4-6ea5085c90f8",
       "_model_module_version": "0.1.3",
       "_view_module_version": "0.1.3",
       "icon": "table",
       "name": "bbb (100, 100) int32",
       "opened": false
      }
     },
     "c4ecd3f191a94304b79a4ce7b72a2079": {
      "model_module": "ipytree",
      "model_module_version": "0.1.3",
      "model_name": "NodeModel",
      "state": {
       "_id": "f52f3d34-f4a7-4c7b-8ecb-c104c3ff584c",
       "_model_module_version": "0.1.3",
       "_view_module_version": "0.1.3",
       "name": "foo"
      }
     },
     "c521ffe4019c4556b65afcb34239a36c": {
      "model_module": "ipytree",
      "model_module_version": "0.1.3",
      "model_name": "NodeModel",
      "state": {
       "_id": "54a4a787-4fa0-4b1c-aae4-ddd22fbc1657",
       "_model_module_version": "0.1.3",
       "_view_module_version": "0.1.3",
       "name": "foo"
      }
     },
     "c60a39cecc6f4f318acbb729f5e1a17c": {
      "model_module": "@jupyter-widgets/base",
      "model_module_version": "1.2.0",
      "model_name": "LayoutModel",
      "state": {}
     },
     "ca5b98b99bf0417ebb4976ad379ec932": {
      "model_module": "ipytree",
      "model_module_version": "0.1.3",
      "model_name": "NodeModel",
      "state": {
       "_id": "bf5f22d0-604b-42fb-9413-53fb946335ff",
       "_model_module_version": "0.1.3",
       "_view_module_version": "0.1.3",
       "name": "zoo",
       "opened": false
      }
     },
     "cd85e6730eec4cba8ab7d7634003496f": {
      "model_module": "ipytree",
      "model_module_version": "0.1.3",
      "model_name": "NodeModel",
      "state": {
       "_id": "b498d865-bdbf-4a44-b82f-dfb4ed81982f",
       "_model_module_version": "0.1.3",
       "_view_module_version": "0.1.3",
       "name": "/",
       "nodes": [
        "IPY_MODEL_f59434de8678434788ba0a7ade44ded9",
        "IPY_MODEL_fd39064364f046c4bbd38737207a302e"
       ]
      }
     },
     "d4b59076d61b4a6686ca8448519599a6": {
      "model_module": "ipytree",
      "model_module_version": "0.1.3",
      "model_name": "NodeModel",
      "state": {
       "_id": "74d05fcd-bfcf-43c9-bb08-edd2d9608179",
       "_model_module_version": "0.1.3",
       "_view_module_version": "0.1.3",
       "name": "baz",
       "opened": false
      }
     },
     "ddd8aff74c8041f9ab41a814e13fe273": {
      "model_module": "ipytree",
      "model_module_version": "0.1.3",
      "model_name": "TreeModel",
      "state": {
       "_model_module_version": "0.1.3",
       "_view_module_version": "0.1.3",
       "layout": "IPY_MODEL_45e0387f79184f66bf918591bef1b82f",
       "nodes": [
        "IPY_MODEL_a96e8897c5704b13a2f6bced17596ad5"
       ]
      }
     },
     "e0764c4db56b4a6aa6a8e7fd890895a3": {
      "model_module": "ipytree",
      "model_module_version": "0.1.3",
      "model_name": "NodeModel",
      "state": {
       "_id": "22bcb7c9-fd4c-4c35-b744-d3b635cdbe62",
       "_model_module_version": "0.1.3",
       "_view_module_version": "0.1.3",
       "name": "bar"
      }
     },
     "e0aa6125dd044bd78193beb1e947dace": {
      "model_module": "ipytree",
      "model_module_version": "0.1.3",
      "model_name": "NodeModel",
      "state": {
       "_id": "4a967cf4-3376-4a7d-a94c-bd779203974d",
       "_model_module_version": "0.1.3",
       "_view_module_version": "0.1.3",
       "icon": "table",
       "name": "bbb (100, 100) int32",
       "opened": false
      }
     },
     "e5666a43d9bd4068ad5243b57f920848": {
      "model_module": "ipytree",
      "model_module_version": "0.1.3",
      "model_name": "NodeModel",
      "state": {
       "_id": "4093673a-c610-4496-a4e5-413048698245",
       "_model_module_version": "0.1.3",
       "_view_module_version": "0.1.3",
       "name": "/",
       "nodes": [
        "IPY_MODEL_056bd3b065c04645a37bd93f404fdcc9",
        "IPY_MODEL_c521ffe4019c4556b65afcb34239a36c"
       ]
      }
     },
     "e77527f19e534c3189ffa6c4c3b387c3": {
      "model_module": "ipytree",
      "model_module_version": "0.1.3",
      "model_name": "NodeModel",
      "state": {
       "_id": "68734658-6e47-48bd-bf0f-81ce9b66e889",
       "_model_module_version": "0.1.3",
       "_view_module_version": "0.1.3",
       "icon": "table",
       "name": "xxx (100,) float64",
       "opened": false
      }
     },
     "ea33d000c03f41ffbebf5b5b36cf81dc": {
      "model_module": "@jupyter-widgets/base",
      "model_module_version": "1.2.0",
      "model_name": "LayoutModel",
      "state": {}
     },
     "ef360e92a57b46fdb38a682379935a3f": {
      "model_module": "ipytree",
      "model_module_version": "0.1.3",
      "model_name": "NodeModel",
      "state": {
       "_id": "9a59e188-b16f-4c67-9f89-8db6537c4d81",
       "_model_module_version": "0.1.3",
       "_view_module_version": "0.1.3",
       "name": "bar",
       "nodes": [
        "IPY_MODEL_f5c07997637547dca31524413f5c4b52",
        "IPY_MODEL_3c7b56a53d4940d3898da404f4356793",
        "IPY_MODEL_b17db6d5c7d2451fbe3b6eade16ae184",
        "IPY_MODEL_be1e35fd5ccc4a22a1c51d0a1f9b9d0d",
        "IPY_MODEL_bb0c7bb24c9d4e4eb5541331f52a2e3a"
       ],
       "opened": false
      }
     },
     "ef832c48acf8492c8c969b347331a68f": {
      "model_module": "ipytree",
      "model_module_version": "0.1.3",
      "model_name": "NodeModel",
      "state": {
       "_id": "59e9504f-899b-4a1d-83a1-c8f73bd8ca15",
       "_model_module_version": "0.1.3",
       "_view_module_version": "0.1.3",
       "name": "quux",
       "nodes": [
        "IPY_MODEL_f0c77e8e42c84ab996de524367bbde67",
        "IPY_MODEL_c3febb160f6142f987ffe802fe050c9b"
       ],
       "opened": false
      }
     },
     "f0c77e8e42c84ab996de524367bbde67": {
      "model_module": "ipytree",
      "model_module_version": "0.1.3",
      "model_name": "NodeModel",
      "state": {
       "_id": "a8ae13c8-78a2-443f-8017-330f327f9185",
       "_model_module_version": "0.1.3",
       "_view_module_version": "0.1.3",
       "icon": "table",
       "name": "aaa (100,) float64",
       "opened": false
      }
     },
     "f3bacdf954364630a7edfcfa2ec33a36": {
      "model_module": "ipytree",
      "model_module_version": "0.1.3",
      "model_name": "NodeModel",
      "state": {
       "_id": "3fb63ce4-969a-4760-8671-284aff0ec5b8",
       "_model_module_version": "0.1.3",
       "_view_module_version": "0.1.3",
       "name": "bar",
       "nodes": [
        "IPY_MODEL_fcedb07fc0f144ecb0f84edf8c7eec7f",
        "IPY_MODEL_938101b790c34de6b8f3e3f5bb677311",
        "IPY_MODEL_e77527f19e534c3189ffa6c4c3b387c3",
        "IPY_MODEL_62906aed72be430fbc6853bc9ff00408",
        "IPY_MODEL_ca5b98b99bf0417ebb4976ad379ec932"
       ]
      }
     },
     "f52c926d523246c182692735e19b190a": {
      "model_module": "ipytree",
      "model_module_version": "0.1.3",
      "model_name": "NodeModel",
      "state": {
       "_id": "3f7d1ed4-2863-41f0-bf3e-b8685c79e5ec",
       "_model_module_version": "0.1.3",
       "_view_module_version": "0.1.3",
       "icon": "table",
       "name": "xxx (100,) float64",
       "opened": false
      }
     },
     "f59434de8678434788ba0a7ade44ded9": {
      "model_module": "ipytree",
      "model_module_version": "0.1.3",
      "model_name": "NodeModel",
      "state": {
       "_id": "dbec56bb-0c29-4af9-af8a-deca3e8ac965",
       "_model_module_version": "0.1.3",
       "_view_module_version": "0.1.3",
       "name": "bar",
       "nodes": [
        "IPY_MODEL_ac5cd15deca54a3a922f3d6aa8b373d9",
        "IPY_MODEL_b77003641dff432b992644b482c83a8b",
        "IPY_MODEL_bb791db0ac9143d38dbc6992e403025e",
        "IPY_MODEL_4e9ab369138848d68e5a1f8ffc2347a9",
        "IPY_MODEL_f916fc629ed54743a75caa6f5f68b83e"
       ]
      }
     },
     "f5c07997637547dca31524413f5c4b52": {
      "model_module": "ipytree",
      "model_module_version": "0.1.3",
      "model_name": "NodeModel",
      "state": {
       "_id": "9ece4fde-ef08-4378-b735-da39e93bf1f6",
       "_model_module_version": "0.1.3",
       "_view_module_version": "0.1.3",
       "name": "baz",
       "opened": false
      }
     },
     "f916fc629ed54743a75caa6f5f68b83e": {
      "model_module": "ipytree",
      "model_module_version": "0.1.3",
      "model_name": "NodeModel",
      "state": {
       "_id": "6fef3689-db9b-4a5e-9d33-4b9912889f4d",
       "_model_module_version": "0.1.3",
       "_view_module_version": "0.1.3",
       "name": "zoo",
       "opened": false
      }
     },
     "fcedb07fc0f144ecb0f84edf8c7eec7f": {
      "model_module": "ipytree",
      "model_module_version": "0.1.3",
      "model_name": "NodeModel",
      "state": {
       "_id": "3d24735c-90f5-4e2b-b8e5-26903a255326",
       "_model_module_version": "0.1.3",
       "_view_module_version": "0.1.3",
       "name": "baz",
       "opened": false
      }
     },
     "fd39064364f046c4bbd38737207a302e": {
      "model_module": "ipytree",
      "model_module_version": "0.1.3",
      "model_name": "NodeModel",
      "state": {
       "_id": "4aee8423-961a-40e4-a59b-20b5882e9f58",
       "_model_module_version": "0.1.3",
       "_view_module_version": "0.1.3",
       "name": "foo"
      }
     }
    },
    "version_major": 2,
    "version_minor": 0
   }
  }
 },
 "nbformat": 4,
 "nbformat_minor": 4
}
