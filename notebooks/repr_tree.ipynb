{
 "cells": [
  {
   "cell_type": "code",
   "execution_count": 1,
   "metadata": {},
   "outputs": [
    {
     "data": {
      "text/plain": [
       "'2.3.3.dev9+dirty'"
      ]
     },
     "execution_count": 1,
     "metadata": {},
     "output_type": "execute_result"
    }
   ],
   "source": [
    "import zarr\n",
    "zarr.__version__"
   ]
  },
  {
   "cell_type": "code",
   "execution_count": 2,
   "metadata": {},
   "outputs": [],
   "source": [
    "g1 = zarr.group()\n",
    "g2 = g1.create_group('foo')\n",
    "g3 = g1.create_group('bar')\n",
    "g3.create_group('baz')\n",
    "g3.create_dataset('xxx', shape=100)\n",
    "g3.create_dataset('yyy', shape=(100, 100), dtype='i4')\n",
    "g5 = g3.create_group('quux')\n",
    "g5.create_dataset('aaa', shape=100)\n",
    "g5.create_dataset('bbb', shape=(100, 100), dtype='i4')\n",
    "g7 = g3.create_group('zoo')"
   ]
  },
  {
   "cell_type": "markdown",
   "metadata": {},
   "source": [
    "Generate text (unicode) tree:"
   ]
  },
  {
   "cell_type": "code",
   "execution_count": 3,
   "metadata": {},
   "outputs": [
    {
     "name": "stdout",
     "output_type": "stream",
     "text": [
      "/\n",
      " ├── bar\n",
      " │   ├── baz\n",
      " │   ├── quux\n",
      " │   │   ├── aaa (100,) float64\n",
      " │   │   └── bbb (100, 100) int32\n",
      " │   ├── xxx (100,) float64\n",
      " │   ├── yyy (100, 100) int32\n",
      " │   └── zoo\n",
      " └── foo\n"
     ]
    }
   ],
   "source": [
    "print(g1.tree())"
   ]
  },
  {
   "cell_type": "markdown",
   "metadata": {},
   "source": [
    "The ``level`` parameter controls how deep the tree is."
   ]
  },
  {
   "cell_type": "code",
   "execution_count": 4,
   "metadata": {},
   "outputs": [
    {
     "name": "stdout",
     "output_type": "stream",
     "text": [
      "/\n",
      " ├── bar\n",
      " └── foo\n"
     ]
    }
   ],
   "source": [
    "print(g1.tree(level=1))"
   ]
  },
  {
   "cell_type": "code",
   "execution_count": 5,
   "metadata": {},
   "outputs": [
    {
     "name": "stdout",
     "output_type": "stream",
     "text": [
      "/\n",
      " ├── bar\n",
      " │   ├── baz\n",
      " │   ├── quux\n",
      " │   ├── xxx (100,) float64\n",
      " │   ├── yyy (100, 100) int32\n",
      " │   └── zoo\n",
      " └── foo\n"
     ]
    }
   ],
   "source": [
    "print(g1.tree(level=2))"
   ]
  },
  {
   "cell_type": "markdown",
   "metadata": {},
   "source": [
    "Alternative plain ASCII tree:"
   ]
  },
  {
   "cell_type": "code",
   "execution_count": 6,
   "metadata": {},
   "outputs": [
    {
     "name": "stdout",
     "output_type": "stream",
     "text": [
      "/\n",
      " +-- bar\n",
      " |   +-- baz\n",
      " |   +-- quux\n",
      " |   |   +-- aaa (100,) float64\n",
      " |   |   +-- bbb (100, 100) int32\n",
      " |   +-- xxx (100,) float64\n",
      " |   +-- yyy (100, 100) int32\n",
      " |   +-- zoo\n",
      " +-- foo\n"
     ]
    }
   ],
   "source": [
    "print(bytes(g1.tree()).decode())"
   ]
  },
  {
   "cell_type": "markdown",
   "metadata": {},
   "source": [
    "HTML trees:"
   ]
  },
  {
   "cell_type": "code",
   "execution_count": 7,
   "metadata": {},
   "outputs": [
    {
     "data": {
      "application/vnd.jupyter.widget-view+json": {
       "model_id": "5944900ea1d84af39c8f4b73be2ae5cd",
       "version_major": 2,
       "version_minor": 0
      },
      "text/plain": [
       "Tree(nodes=(Node(disabled=True, name='/', nodes=(Node(disabled=True, name='bar', nodes=(Node(disabled=True, na…"
      ]
     },
     "metadata": {},
     "output_type": "display_data"
    }
   ],
   "source": [
    "g1.tree()"
   ]
  },
  {
   "cell_type": "markdown",
   "metadata": {},
   "source": [
    "Use ``expand=True`` to have all groups automatically expanded."
   ]
  },
  {
   "cell_type": "code",
   "execution_count": 8,
   "metadata": {},
   "outputs": [
    {
     "data": {
      "application/vnd.jupyter.widget-view+json": {
       "model_id": "970ab619518b4953b05a9f1fd9cdedad",
       "version_major": 2,
       "version_minor": 0
      },
      "text/plain": [
       "Tree(nodes=(Node(disabled=True, name='/', nodes=(Node(disabled=True, name='bar', nodes=(Node(disabled=True, na…"
      ]
     },
     "metadata": {},
     "output_type": "display_data"
    }
   ],
   "source": [
    "g1.tree(expand=True)"
   ]
  },
  {
   "cell_type": "code",
   "execution_count": 9,
   "metadata": {},
   "outputs": [
    {
     "data": {
      "application/vnd.jupyter.widget-view+json": {
       "model_id": "1c470249980a48d193249a1bbc170bd5",
       "version_major": 2,
       "version_minor": 0
      },
      "text/plain": [
       "Tree(nodes=(Node(disabled=True, name='/', nodes=(Node(disabled=True, name='bar', nodes=(Node(disabled=True, na…"
      ]
     },
     "metadata": {},
     "output_type": "display_data"
    }
   ],
   "source": [
    "g1.tree(expand=True, level=2)"
   ]
  },
  {
   "cell_type": "code",
   "execution_count": 10,
   "metadata": {},
   "outputs": [
    {
     "data": {
      "application/vnd.jupyter.widget-view+json": {
       "model_id": "3f50999f03c0413d9d9bed10905104ae",
       "version_major": 2,
       "version_minor": 0
      },
      "text/plain": [
       "Tree(nodes=(Node(disabled=True, name='/', nodes=(Node(disabled=True, name='bar'), Node(disabled=True, name='fo…"
      ]
     },
     "metadata": {},
     "output_type": "display_data"
    }
   ],
   "source": [
    "g1.tree(expand=True, level=1)"
   ]
  },
  {
   "cell_type": "markdown",
   "metadata": {},
   "source": [
    "The ``expand`` parameter can also be an integer, giving the depth to expand to."
   ]
  },
  {
   "cell_type": "code",
   "execution_count": 11,
   "metadata": {},
   "outputs": [
    {
     "data": {
      "application/vnd.jupyter.widget-view+json": {
       "model_id": "7fe51dee2e744576a5e03cb0f1b1cb44",
       "version_major": 2,
       "version_minor": 0
      },
      "text/plain": [
       "Tree(nodes=(Node(disabled=True, name='/', nodes=(Node(disabled=True, name='bar', nodes=(Node(disabled=True, na…"
      ]
     },
     "metadata": {},
     "output_type": "display_data"
    }
   ],
   "source": [
    "g1.tree(expand=1)"
   ]
  },
  {
   "cell_type": "code",
   "execution_count": 12,
   "metadata": {},
   "outputs": [
    {
     "data": {
      "application/vnd.jupyter.widget-view+json": {
       "model_id": "14e357755a914cc89ff5e19151fedb55",
       "version_major": 2,
       "version_minor": 0
      },
      "text/plain": [
       "Tree(nodes=(Node(disabled=True, name='/', nodes=(Node(disabled=True, name='bar', nodes=(Node(disabled=True, na…"
      ]
     },
     "metadata": {},
     "output_type": "display_data"
    }
   ],
   "source": [
    "g1.tree(expand=2)"
   ]
  },
  {
   "cell_type": "code",
   "execution_count": 13,
   "metadata": {},
   "outputs": [
    {
     "data": {
      "application/vnd.jupyter.widget-view+json": {
       "model_id": "f082b56b746647d29007253f5d0d19d8",
       "version_major": 2,
       "version_minor": 0
      },
      "text/plain": [
       "Tree(nodes=(Node(disabled=True, name='/', nodes=(Node(disabled=True, name='bar', nodes=(Node(disabled=True, na…"
      ]
     },
     "metadata": {},
     "output_type": "display_data"
    }
   ],
   "source": [
    "g1.tree(expand=3)"
   ]
  },
  {
   "cell_type": "code",
   "execution_count": null,
   "metadata": {},
   "outputs": [],
   "source": []
  }
 ],
 "metadata": {
  "kernelspec": {
   "display_name": "Python 3",
   "language": "python",
   "name": "python3"
  },
  "language_info": {
   "codemirror_mode": {
    "name": "ipython",
    "version": 3
   },
   "file_extension": ".py",
   "mimetype": "text/x-python",
   "name": "python",
   "nbconvert_exporter": "python",
   "pygments_lexer": "ipython3",
   "version": "3.7.2"
  },
  "widgets": {
   "application/vnd.jupyter.widget-state+json": {
    "state": {
     "02c54dca907a4782aa80ec5ede1580bb": {
      "model_module": "ipytree",
      "model_module_version": "0.1.3",
      "model_name": "NodeModel",
      "state": {
       "_id": "a6c904d9-71f8-4f7e-914c-c77a7eb901c9",
       "_model_module_version": "0.1.3",
       "_view_module_version": "0.1.3",
       "disabled": true,
       "icon": "table",
       "name": "yyy (100, 100) int32",
       "opened": false
      }
     },
     "0c421ed33a154d719d40d2d94a284284": {
      "model_module": "ipytree",
      "model_module_version": "0.1.3",
      "model_name": "NodeModel",
      "state": {
       "_id": "3433ac58-941a-4462-8fa6-88a93a57c8ed",
       "_model_module_version": "0.1.3",
       "_view_module_version": "0.1.3",
       "disabled": true,
       "icon": "table",
       "name": "xxx (100,) float64",
       "opened": false
      }
     },
     "0f5eeb164323400da26bc84eac98bb5e": {
      "model_module": "ipytree",
      "model_module_version": "0.1.3",
      "model_name": "NodeModel",
      "state": {
       "_id": "c5c2b3b1-22eb-496f-bdeb-3c380d9c7d3a",
       "_model_module_version": "0.1.3",
       "_view_module_version": "0.1.3",
       "disabled": true,
       "name": "quux",
       "nodes": [
        "IPY_MODEL_4186acaca2244f6393a43ff31f1ccfb1",
        "IPY_MODEL_60db963d1e2345deaa0e9ca201e237c6"
       ],
       "opened": false
      }
     },
     "11a38dda8cc0449b8b3d444577dd0b10": {
      "model_module": "ipytree",
      "model_module_version": "0.1.3",
      "model_name": "NodeModel",
      "state": {
       "_id": "e73aee6a-528f-429e-a740-21daf686ffe9",
       "_model_module_version": "0.1.3",
       "_view_module_version": "0.1.3",
       "disabled": true,
       "name": "baz",
       "opened": false
      }
     },
     "14e357755a914cc89ff5e19151fedb55": {
      "model_module": "ipytree",
      "model_module_version": "0.1.3",
      "model_name": "TreeModel",
      "state": {
       "_model_module_version": "0.1.3",
       "_view_module_version": "0.1.3",
       "layout": "IPY_MODEL_15b9ea8b85ce407baec82710479b4e68",
       "nodes": [
        "IPY_MODEL_7c2764849d3f4c868955f6de3e30cf34"
       ]
      }
     },
     "15b9ea8b85ce407baec82710479b4e68": {
      "model_module": "@jupyter-widgets/base",
      "model_module_version": "1.2.0",
      "model_name": "LayoutModel",
      "state": {}
     },
     "1c470249980a48d193249a1bbc170bd5": {
      "model_module": "ipytree",
      "model_module_version": "0.1.3",
      "model_name": "TreeModel",
      "state": {
       "_model_module_version": "0.1.3",
       "_view_module_version": "0.1.3",
       "layout": "IPY_MODEL_c35d8445fb434169ad00fefe6481b93f",
       "nodes": [
        "IPY_MODEL_9ff171c5fdab4864a8c37ecdf3d3a00f"
       ]
      }
     },
     "2475fa123c8a4457afeb7104e9ea6e2a": {
      "model_module": "ipytree",
      "model_module_version": "0.1.3",
      "model_name": "NodeModel",
      "state": {
       "_id": "a34accd4-14ea-486e-b229-785b342d344d",
       "_model_module_version": "0.1.3",
       "_view_module_version": "0.1.3",
       "disabled": true,
       "name": "zoo",
       "opened": false
      }
     },
     "25117f357c184265bc36fec9f4d195b1": {
      "model_module": "ipytree",
      "model_module_version": "0.1.3",
      "model_name": "NodeModel",
      "state": {
       "_id": "a9dc0455-fdeb-4b46-ad1a-cf2676b939bf",
       "_model_module_version": "0.1.3",
       "_view_module_version": "0.1.3",
       "disabled": true,
       "name": "foo"
      }
     },
     "262d96123d4c48f2985a689c7456ec8c": {
      "model_module": "ipytree",
      "model_module_version": "0.1.3",
      "model_name": "NodeModel",
      "state": {
       "_id": "24cebf62-709f-4331-8f5b-184782b060b5",
       "_model_module_version": "0.1.3",
       "_view_module_version": "0.1.3",
       "disabled": true,
       "name": "foo"
      }
     },
     "29f9e861a397427ba8b0c96d3fa2a62d": {
      "model_module": "ipytree",
      "model_module_version": "0.1.3",
      "model_name": "NodeModel",
      "state": {
       "_id": "260458d6-ec6f-48d9-bc08-5cb27f1b7b03",
       "_model_module_version": "0.1.3",
       "_view_module_version": "0.1.3",
       "disabled": true,
       "name": "quux",
       "nodes": [
        "IPY_MODEL_9a7ac5f62c2e498c88dd63b06ff62d1f",
        "IPY_MODEL_34f53a916c754bc2b8387b155bc4bf00"
       ],
       "opened": false
      }
     },
     "2f9d871005b14e44b646aecfd1efcffc": {
      "model_module": "ipytree",
      "model_module_version": "0.1.3",
      "model_name": "NodeModel",
      "state": {
       "_id": "967960b2-0f60-45e4-9e6a-1fa9edec2866",
       "_model_module_version": "0.1.3",
       "_view_module_version": "0.1.3",
       "disabled": true,
       "name": "quux",
       "nodes": [
        "IPY_MODEL_fa9a4ebf753b475daacf77dbbadc75cd",
        "IPY_MODEL_5d85be2decb745f993f2549aba468b63"
       ],
       "opened": false
      }
     },
     "30fba84c9a614007b958e44ff399c71e": {
      "model_module": "ipytree",
      "model_module_version": "0.1.3",
      "model_name": "NodeModel",
      "state": {
       "_id": "89f823db-f118-41ad-b473-3c7fe94e3000",
       "_model_module_version": "0.1.3",
       "_view_module_version": "0.1.3",
       "disabled": true,
       "icon": "table",
       "name": "yyy (100, 100) int32",
       "opened": false
      }
     },
     "34cb5c15776146d181883a10b3c6601e": {
      "model_module": "ipytree",
      "model_module_version": "0.1.3",
      "model_name": "NodeModel",
      "state": {
       "_id": "e4321fd8-7749-4b0f-beb8-b217e54b3bf1",
       "_model_module_version": "0.1.3",
       "_view_module_version": "0.1.3",
       "disabled": true,
       "name": "/",
       "nodes": [
        "IPY_MODEL_c76b3eb938d34031b925c5be533b3981",
        "IPY_MODEL_5f69519865084abbbe0f76000151bea8"
       ]
      }
     },
     "34f53a916c754bc2b8387b155bc4bf00": {
      "model_module": "ipytree",
      "model_module_version": "0.1.3",
      "model_name": "NodeModel",
      "state": {
       "_id": "b4d31755-4147-4dfd-be70-27a74af1e5ad",
       "_model_module_version": "0.1.3",
       "_view_module_version": "0.1.3",
       "disabled": true,
       "icon": "table",
       "name": "bbb (100, 100) int32",
       "opened": false
      }
     },
     "35d1e5f6a20540e59ddc036f22bf6972": {
      "model_module": "ipytree",
      "model_module_version": "0.1.3",
      "model_name": "NodeModel",
      "state": {
       "_id": "c7104be7-1d73-4ffc-9775-f3bce16a5c8a",
       "_model_module_version": "0.1.3",
       "_view_module_version": "0.1.3",
       "disabled": true,
       "icon": "table",
       "name": "bbb (100, 100) int32",
       "opened": false
      }
     },
     "35dac81c052e451bad3e7e354388d681": {
      "model_module": "ipytree",
      "model_module_version": "0.1.3",
      "model_name": "NodeModel",
      "state": {
       "_id": "85615af2-fd8f-4c29-9fab-e53dc551483c",
       "_model_module_version": "0.1.3",
       "_view_module_version": "0.1.3",
       "disabled": true,
       "name": "baz",
       "opened": false
      }
     },
     "3686eb72225d4072bf144386990f4ebe": {
      "model_module": "ipytree",
      "model_module_version": "0.1.3",
      "model_name": "NodeModel",
      "state": {
       "_id": "0d356190-5b31-4a29-b838-a71a6e1683e6",
       "_model_module_version": "0.1.3",
       "_view_module_version": "0.1.3",
       "disabled": true,
       "name": "/",
       "nodes": [
        "IPY_MODEL_7a11c3c0e38445299dffa3c163652d82",
        "IPY_MODEL_b4f0b821d3444a4d8a937552b2e6400d"
       ]
      }
     },
     "37ea21387b8a46bc8d09ea5ce3d4915e": {
      "model_module": "ipytree",
      "model_module_version": "0.1.3",
      "model_name": "NodeModel",
      "state": {
       "_id": "2b6ba0f5-a905-4303-a48e-5dd696138cea",
       "_model_module_version": "0.1.3",
       "_view_module_version": "0.1.3",
       "disabled": true,
       "name": "bar"
      }
     },
     "3f50999f03c0413d9d9bed10905104ae": {
      "model_module": "ipytree",
      "model_module_version": "0.1.3",
      "model_name": "TreeModel",
      "state": {
       "_model_module_version": "0.1.3",
       "_view_module_version": "0.1.3",
       "layout": "IPY_MODEL_58a2d05210d1493484444948064e40ee",
       "nodes": [
        "IPY_MODEL_fa4606c385a146f39b64714738194d13"
       ]
      }
     },
     "4186acaca2244f6393a43ff31f1ccfb1": {
      "model_module": "ipytree",
      "model_module_version": "0.1.3",
      "model_name": "NodeModel",
      "state": {
       "_id": "db3d08a8-ba1c-475f-bcde-781e8e152aa5",
       "_model_module_version": "0.1.3",
       "_view_module_version": "0.1.3",
       "disabled": true,
       "icon": "table",
       "name": "aaa (100,) float64",
       "opened": false
      }
     },
     "4419e823b48540e592d0339533fe53e4": {
      "model_module": "ipytree",
      "model_module_version": "0.1.3",
      "model_name": "NodeModel",
      "state": {
       "_id": "b0be9903-41ad-430e-9875-78d775859fa2",
       "_model_module_version": "0.1.3",
       "_view_module_version": "0.1.3",
       "disabled": true,
       "icon": "table",
       "name": "xxx (100,) float64",
       "opened": false
      }
     },
     "459a4cf5b81744b2882c201f12b04aa8": {
      "model_module": "ipytree",
      "model_module_version": "0.1.3",
      "model_name": "NodeModel",
      "state": {
       "_id": "caa11a9b-68bd-4cc2-aa40-f519a0cd20f3",
       "_model_module_version": "0.1.3",
       "_view_module_version": "0.1.3",
       "disabled": true,
       "icon": "table",
       "name": "xxx (100,) float64",
       "opened": false
      }
     },
     "4715dab5837e414cbe348ebbcadd0934": {
      "model_module": "@jupyter-widgets/base",
      "model_module_version": "1.2.0",
      "model_name": "LayoutModel",
      "state": {}
     },
     "4aa96abe02424a9495fa49632943f58d": {
      "model_module": "@jupyter-widgets/base",
      "model_module_version": "1.2.0",
      "model_name": "LayoutModel",
      "state": {}
     },
     "582530afcb77441a88cc12468e5dea79": {
      "model_module": "ipytree",
      "model_module_version": "0.1.3",
      "model_name": "NodeModel",
      "state": {
       "_id": "2d0b5bac-7958-4389-967d-61019b737fa9",
       "_model_module_version": "0.1.3",
       "_view_module_version": "0.1.3",
       "disabled": true,
       "icon": "table",
       "name": "bbb (100, 100) int32",
       "opened": false
      }
     },
     "58a2d05210d1493484444948064e40ee": {
      "model_module": "@jupyter-widgets/base",
      "model_module_version": "1.2.0",
      "model_name": "LayoutModel",
      "state": {}
     },
     "58b7878d7979400295aec3e28c5e01ef": {
      "model_module": "ipytree",
      "model_module_version": "0.1.3",
      "model_name": "NodeModel",
      "state": {
       "_id": "83dbb883-5734-4767-bd44-ddcf32eff709",
       "_model_module_version": "0.1.3",
       "_view_module_version": "0.1.3",
       "disabled": true,
       "icon": "table",
       "name": "aaa (100,) float64",
       "opened": false
      }
     },
     "5944900ea1d84af39c8f4b73be2ae5cd": {
      "model_module": "ipytree",
      "model_module_version": "0.1.3",
      "model_name": "TreeModel",
      "state": {
       "_model_module_version": "0.1.3",
       "_view_module_version": "0.1.3",
       "layout": "IPY_MODEL_4aa96abe02424a9495fa49632943f58d",
       "nodes": [
        "IPY_MODEL_3686eb72225d4072bf144386990f4ebe"
       ]
      }
     },
     "5974abf8bbe9436083c543ba2024920a": {
      "model_module": "ipytree",
      "model_module_version": "0.1.3",
      "model_name": "NodeModel",
      "state": {
       "_id": "aa2809b1-f0fa-46de-86fe-ffe28f3b5c5b",
       "_model_module_version": "0.1.3",
       "_view_module_version": "0.1.3",
       "disabled": true,
       "name": "baz",
       "opened": false
      }
     },
     "5cb987c1d55949baab86700abf518e7b": {
      "model_module": "ipytree",
      "model_module_version": "0.1.3",
      "model_name": "NodeModel",
      "state": {
       "_id": "dc4d5221-743e-46da-b92b-d41f23805964",
       "_model_module_version": "0.1.3",
       "_view_module_version": "0.1.3",
       "disabled": true,
       "name": "zoo",
       "opened": false
      }
     },
     "5d85be2decb745f993f2549aba468b63": {
      "model_module": "ipytree",
      "model_module_version": "0.1.3",
      "model_name": "NodeModel",
      "state": {
       "_id": "e7ae68ee-48a2-46f7-92a1-61abf4b675bd",
       "_model_module_version": "0.1.3",
       "_view_module_version": "0.1.3",
       "disabled": true,
       "icon": "table",
       "name": "bbb (100, 100) int32",
       "opened": false
      }
     },
     "5f69519865084abbbe0f76000151bea8": {
      "model_module": "ipytree",
      "model_module_version": "0.1.3",
      "model_name": "NodeModel",
      "state": {
       "_id": "363df52a-fb49-4e7b-9f0e-5557beaa7170",
       "_model_module_version": "0.1.3",
       "_view_module_version": "0.1.3",
       "disabled": true,
       "name": "foo"
      }
     },
     "601a275bf83e46c8be1191f6d51ef3a7": {
      "model_module": "ipytree",
      "model_module_version": "0.1.3",
      "model_name": "NodeModel",
      "state": {
       "_id": "471f3bfb-e127-4b44-8e4a-947be24a2229",
       "_model_module_version": "0.1.3",
       "_view_module_version": "0.1.3",
       "disabled": true,
       "icon": "table",
       "name": "xxx (100,) float64",
       "opened": false
      }
     },
     "601e491120b54f53bf080a2bb8dcefc1": {
      "model_module": "ipytree",
      "model_module_version": "0.1.3",
      "model_name": "NodeModel",
      "state": {
       "_id": "b493db63-3265-4ad2-b536-aed967deaa16",
       "_model_module_version": "0.1.3",
       "_view_module_version": "0.1.3",
       "disabled": true,
       "icon": "table",
       "name": "yyy (100, 100) int32",
       "opened": false
      }
     },
     "60db963d1e2345deaa0e9ca201e237c6": {
      "model_module": "ipytree",
      "model_module_version": "0.1.3",
      "model_name": "NodeModel",
      "state": {
       "_id": "b94c398c-a064-4991-8220-5be79da72808",
       "_model_module_version": "0.1.3",
       "_view_module_version": "0.1.3",
       "disabled": true,
       "icon": "table",
       "name": "bbb (100, 100) int32",
       "opened": false
      }
     },
     "669045c8f8bf4216ae9a5deffab2904a": {
      "model_module": "@jupyter-widgets/base",
      "model_module_version": "1.2.0",
      "model_name": "LayoutModel",
      "state": {}
     },
     "6dc2242d903b4e9687ca074988d8d128": {
      "model_module": "ipytree",
      "model_module_version": "0.1.3",
      "model_name": "NodeModel",
      "state": {
       "_id": "e13fad40-de9f-4f3b-8d17-f070951bb59d",
       "_model_module_version": "0.1.3",
       "_view_module_version": "0.1.3",
       "disabled": true,
       "name": "quux",
       "nodes": [
        "IPY_MODEL_58b7878d7979400295aec3e28c5e01ef",
        "IPY_MODEL_582530afcb77441a88cc12468e5dea79"
       ],
       "opened": false
      }
     },
     "7a11c3c0e38445299dffa3c163652d82": {
      "model_module": "ipytree",
      "model_module_version": "0.1.3",
      "model_name": "NodeModel",
      "state": {
       "_id": "33a5164d-ecd8-4e39-a0f8-4bcf40e38528",
       "_model_module_version": "0.1.3",
       "_view_module_version": "0.1.3",
       "disabled": true,
       "name": "bar",
       "nodes": [
        "IPY_MODEL_f45b38ee210d43b3bedfdac3115d9a00",
        "IPY_MODEL_2f9d871005b14e44b646aecfd1efcffc",
        "IPY_MODEL_459a4cf5b81744b2882c201f12b04aa8",
        "IPY_MODEL_30fba84c9a614007b958e44ff399c71e",
        "IPY_MODEL_2475fa123c8a4457afeb7104e9ea6e2a"
       ],
       "opened": false
      }
     },
     "7a4cdf68580d4bbf87d26875cddbedcd": {
      "model_module": "ipytree",
      "model_module_version": "0.1.3",
      "model_name": "NodeModel",
      "state": {
       "_id": "a83845ba-9c3d-40f6-a660-fbcc7f4c3889",
       "_model_module_version": "0.1.3",
       "_view_module_version": "0.1.3",
       "disabled": true,
       "name": "zoo",
       "opened": false
      }
     },
     "7be2600dd87b4e218b8c110790d83966": {
      "model_module": "ipytree",
      "model_module_version": "0.1.3",
      "model_name": "NodeModel",
      "state": {
       "_id": "38d9fb3a-480a-4c3c-8487-c70fe3fb3780",
       "_model_module_version": "0.1.3",
       "_view_module_version": "0.1.3",
       "disabled": true,
       "name": "foo"
      }
     },
     "7c2764849d3f4c868955f6de3e30cf34": {
      "model_module": "ipytree",
      "model_module_version": "0.1.3",
      "model_name": "NodeModel",
      "state": {
       "_id": "6924b547-12b4-4fe1-bcbe-78c61787677e",
       "_model_module_version": "0.1.3",
       "_view_module_version": "0.1.3",
       "disabled": true,
       "name": "/",
       "nodes": [
        "IPY_MODEL_9715dd2a52ef4c3d90667d695c2d75a7",
        "IPY_MODEL_aecce186d486499298c90c78971f0568"
       ]
      }
     },
     "7c6c494be1ba4c3195db066e809a1f37": {
      "model_module": "ipytree",
      "model_module_version": "0.1.3",
      "model_name": "NodeModel",
      "state": {
       "_id": "8880947a-4602-423f-aa9a-334f43e2ead1",
       "_model_module_version": "0.1.3",
       "_view_module_version": "0.1.3",
       "disabled": true,
       "name": "/",
       "nodes": [
        "IPY_MODEL_d9a5d583d4084ec0ab3f47490982bae0",
        "IPY_MODEL_8563e804226c4c9eb5e05c6087ad86a9"
       ]
      }
     },
     "7fe51dee2e744576a5e03cb0f1b1cb44": {
      "model_module": "ipytree",
      "model_module_version": "0.1.3",
      "model_name": "TreeModel",
      "state": {
       "_model_module_version": "0.1.3",
       "_view_module_version": "0.1.3",
       "layout": "IPY_MODEL_4715dab5837e414cbe348ebbcadd0934",
       "nodes": [
        "IPY_MODEL_34cb5c15776146d181883a10b3c6601e"
       ]
      }
     },
     "852b72038b0f42ba80317985accc45d3": {
      "model_module": "ipytree",
      "model_module_version": "0.1.3",
      "model_name": "NodeModel",
      "state": {
       "_id": "19d3e883-5986-4846-853a-cf4524b64548",
       "_model_module_version": "0.1.3",
       "_view_module_version": "0.1.3",
       "disabled": true,
       "name": "baz",
       "opened": false
      }
     },
     "8563e804226c4c9eb5e05c6087ad86a9": {
      "model_module": "ipytree",
      "model_module_version": "0.1.3",
      "model_name": "NodeModel",
      "state": {
       "_id": "e4fb1281-6a6c-4233-9c16-b1bab128b20c",
       "_model_module_version": "0.1.3",
       "_view_module_version": "0.1.3",
       "disabled": true,
       "name": "foo"
      }
     },
     "92c18a54d6874ed481524b1778176ed7": {
      "model_module": "ipytree",
      "model_module_version": "0.1.3",
      "model_name": "NodeModel",
      "state": {
       "_id": "f23a2837-cbcd-4108-a96d-a4fbe0721d5b",
       "_model_module_version": "0.1.3",
       "_view_module_version": "0.1.3",
       "disabled": true,
       "name": "zoo",
       "opened": false
      }
     },
     "970ab619518b4953b05a9f1fd9cdedad": {
      "model_module": "ipytree",
      "model_module_version": "0.1.3",
      "model_name": "TreeModel",
      "state": {
       "_model_module_version": "0.1.3",
       "_view_module_version": "0.1.3",
       "layout": "IPY_MODEL_669045c8f8bf4216ae9a5deffab2904a",
       "nodes": [
        "IPY_MODEL_a3d0378d4ff844969012509916c60e06"
       ]
      }
     },
     "9715dd2a52ef4c3d90667d695c2d75a7": {
      "model_module": "ipytree",
      "model_module_version": "0.1.3",
      "model_name": "NodeModel",
      "state": {
       "_id": "4920a845-84fc-4bfa-9bc4-45ce469fa3b0",
       "_model_module_version": "0.1.3",
       "_view_module_version": "0.1.3",
       "disabled": true,
       "name": "bar",
       "nodes": [
        "IPY_MODEL_852b72038b0f42ba80317985accc45d3",
        "IPY_MODEL_0f5eeb164323400da26bc84eac98bb5e",
        "IPY_MODEL_ede9804c53fc40719a43793cc1b21b04",
        "IPY_MODEL_02c54dca907a4782aa80ec5ede1580bb",
        "IPY_MODEL_7a4cdf68580d4bbf87d26875cddbedcd"
       ]
      }
     },
     "9a7ac5f62c2e498c88dd63b06ff62d1f": {
      "model_module": "ipytree",
      "model_module_version": "0.1.3",
      "model_name": "NodeModel",
      "state": {
       "_id": "8b844f34-4aa6-40ac-840c-d3e6cf0357f3",
       "_model_module_version": "0.1.3",
       "_view_module_version": "0.1.3",
       "disabled": true,
       "icon": "table",
       "name": "aaa (100,) float64",
       "opened": false
      }
     },
     "9d435cc9b5f24ebda3a8b185bf2c59ff": {
      "model_module": "ipytree",
      "model_module_version": "0.1.3",
      "model_name": "NodeModel",
      "state": {
       "_id": "99ee99ab-ce97-40d8-861a-483cd7584c83",
       "_model_module_version": "0.1.3",
       "_view_module_version": "0.1.3",
       "disabled": true,
       "name": "quux",
       "opened": false
      }
     },
     "9e64b18376244f7882e6a89b4262f117": {
      "model_module": "ipytree",
      "model_module_version": "0.1.3",
      "model_name": "NodeModel",
      "state": {
       "_id": "dd088559-76e8-478a-9eb4-d6ec40c37d1d",
       "_model_module_version": "0.1.3",
       "_view_module_version": "0.1.3",
       "disabled": true,
       "icon": "table",
       "name": "yyy (100, 100) int32",
       "opened": false
      }
     },
     "9ff171c5fdab4864a8c37ecdf3d3a00f": {
      "model_module": "ipytree",
      "model_module_version": "0.1.3",
      "model_name": "NodeModel",
      "state": {
       "_id": "16c672ef-af4e-4ffb-a74a-c60081acb5f1",
       "_model_module_version": "0.1.3",
       "_view_module_version": "0.1.3",
       "disabled": true,
       "name": "/",
       "nodes": [
        "IPY_MODEL_b5a82d61621440798bfc9a3b7119be9b",
        "IPY_MODEL_25117f357c184265bc36fec9f4d195b1"
       ]
      }
     },
     "a3d0378d4ff844969012509916c60e06": {
      "model_module": "ipytree",
      "model_module_version": "0.1.3",
      "model_name": "NodeModel",
      "state": {
       "_id": "c6deba29-0036-45fe-92fb-fb515b11b5b4",
       "_model_module_version": "0.1.3",
       "_view_module_version": "0.1.3",
       "disabled": true,
       "name": "/",
       "nodes": [
        "IPY_MODEL_bfe88eb5eceb495bbf200736832d34a2",
        "IPY_MODEL_262d96123d4c48f2985a689c7456ec8c"
       ]
      }
     },
     "aecce186d486499298c90c78971f0568": {
      "model_module": "ipytree",
      "model_module_version": "0.1.3",
      "model_name": "NodeModel",
      "state": {
       "_id": "2d811325-2ab0-49df-aa22-6a12b765ec03",
       "_model_module_version": "0.1.3",
       "_view_module_version": "0.1.3",
       "disabled": true,
       "name": "foo"
      }
     },
     "b4f0b821d3444a4d8a937552b2e6400d": {
      "model_module": "ipytree",
      "model_module_version": "0.1.3",
      "model_name": "NodeModel",
      "state": {
       "_id": "e286dd22-eac6-4ecc-a366-c7b73b64ebb6",
       "_model_module_version": "0.1.3",
       "_view_module_version": "0.1.3",
       "disabled": true,
       "name": "foo",
       "opened": false
      }
     },
     "b5a82d61621440798bfc9a3b7119be9b": {
      "model_module": "ipytree",
      "model_module_version": "0.1.3",
      "model_name": "NodeModel",
      "state": {
       "_id": "f54d7810-d618-4bb5-a578-be9596b45813",
       "_model_module_version": "0.1.3",
       "_view_module_version": "0.1.3",
       "disabled": true,
       "name": "bar",
       "nodes": [
        "IPY_MODEL_5974abf8bbe9436083c543ba2024920a",
        "IPY_MODEL_9d435cc9b5f24ebda3a8b185bf2c59ff",
        "IPY_MODEL_601a275bf83e46c8be1191f6d51ef3a7",
        "IPY_MODEL_601e491120b54f53bf080a2bb8dcefc1",
        "IPY_MODEL_92c18a54d6874ed481524b1778176ed7"
       ]
      }
     },
     "bd3d29870b3548d69f15cc83d5fac815": {
      "model_module": "ipytree",
      "model_module_version": "0.1.3",
      "model_name": "NodeModel",
      "state": {
       "_id": "b57fd250-5ba8-4225-b04a-06793bcb5b44",
       "_model_module_version": "0.1.3",
       "_view_module_version": "0.1.3",
       "disabled": true,
       "name": "baz",
       "opened": false
      }
     },
     "bfe88eb5eceb495bbf200736832d34a2": {
      "model_module": "ipytree",
      "model_module_version": "0.1.3",
      "model_name": "NodeModel",
      "state": {
       "_id": "c77c88cd-1a0d-44cb-9ae0-28048c05d050",
       "_model_module_version": "0.1.3",
       "_view_module_version": "0.1.3",
       "disabled": true,
       "name": "bar",
       "nodes": [
        "IPY_MODEL_bd3d29870b3548d69f15cc83d5fac815",
        "IPY_MODEL_f8ceffaab071480fac57423c14766e93",
        "IPY_MODEL_0c421ed33a154d719d40d2d94a284284",
        "IPY_MODEL_db276fd988974819b13bcb00ffc240bf",
        "IPY_MODEL_5cb987c1d55949baab86700abf518e7b"
       ]
      }
     },
     "c35d8445fb434169ad00fefe6481b93f": {
      "model_module": "@jupyter-widgets/base",
      "model_module_version": "1.2.0",
      "model_name": "LayoutModel",
      "state": {}
     },
     "c76b3eb938d34031b925c5be533b3981": {
      "model_module": "ipytree",
      "model_module_version": "0.1.3",
      "model_name": "NodeModel",
      "state": {
       "_id": "436859f6-a9a8-4954-aec6-2f9e90034ac9",
       "_model_module_version": "0.1.3",
       "_view_module_version": "0.1.3",
       "disabled": true,
       "name": "bar",
       "nodes": [
        "IPY_MODEL_11a38dda8cc0449b8b3d444577dd0b10",
        "IPY_MODEL_29f9e861a397427ba8b0c96d3fa2a62d",
        "IPY_MODEL_4419e823b48540e592d0339533fe53e4",
        "IPY_MODEL_ec0c05ebf1a241c6a9de8e2386791d91",
        "IPY_MODEL_de5a5deb627040d2805273e33ac3f9f5"
       ]
      }
     },
     "c7985a0244984b3196afd1f0768ce8dd": {
      "model_module": "ipytree",
      "model_module_version": "0.1.3",
      "model_name": "NodeModel",
      "state": {
       "_id": "ace4d3f8-c214-41bf-af82-66a07dfd3973",
       "_model_module_version": "0.1.3",
       "_view_module_version": "0.1.3",
       "disabled": true,
       "name": "zoo",
       "opened": false
      }
     },
     "d9a5d583d4084ec0ab3f47490982bae0": {
      "model_module": "ipytree",
      "model_module_version": "0.1.3",
      "model_name": "NodeModel",
      "state": {
       "_id": "81c42c5b-36ed-4376-bbf9-4e9f58d2c750",
       "_model_module_version": "0.1.3",
       "_view_module_version": "0.1.3",
       "disabled": true,
       "name": "bar",
       "nodes": [
        "IPY_MODEL_35dac81c052e451bad3e7e354388d681",
        "IPY_MODEL_6dc2242d903b4e9687ca074988d8d128",
        "IPY_MODEL_f00b89d8b7534c7289a93239f3f9658c",
        "IPY_MODEL_9e64b18376244f7882e6a89b4262f117",
        "IPY_MODEL_c7985a0244984b3196afd1f0768ce8dd"
       ]
      }
     },
     "dac661ca652a49f0ab9d8be85260ac1d": {
      "model_module": "@jupyter-widgets/base",
      "model_module_version": "1.2.0",
      "model_name": "LayoutModel",
      "state": {}
     },
     "db276fd988974819b13bcb00ffc240bf": {
      "model_module": "ipytree",
      "model_module_version": "0.1.3",
      "model_name": "NodeModel",
      "state": {
       "_id": "9ba7ec84-21b6-4ecc-82a6-919ca9e8c361",
       "_model_module_version": "0.1.3",
       "_view_module_version": "0.1.3",
       "disabled": true,
       "icon": "table",
       "name": "yyy (100, 100) int32",
       "opened": false
      }
     },
     "de5a5deb627040d2805273e33ac3f9f5": {
      "model_module": "ipytree",
      "model_module_version": "0.1.3",
      "model_name": "NodeModel",
      "state": {
       "_id": "b3a6dd5b-bea7-4c1a-9b82-58b56f050981",
       "_model_module_version": "0.1.3",
       "_view_module_version": "0.1.3",
       "disabled": true,
       "name": "zoo",
       "opened": false
      }
     },
     "ec0c05ebf1a241c6a9de8e2386791d91": {
      "model_module": "ipytree",
      "model_module_version": "0.1.3",
      "model_name": "NodeModel",
      "state": {
       "_id": "fa3e336c-5e52-4ffa-816b-f34b43b038f6",
       "_model_module_version": "0.1.3",
       "_view_module_version": "0.1.3",
       "disabled": true,
       "icon": "table",
       "name": "yyy (100, 100) int32",
       "opened": false
      }
     },
     "ede9804c53fc40719a43793cc1b21b04": {
      "model_module": "ipytree",
      "model_module_version": "0.1.3",
      "model_name": "NodeModel",
      "state": {
       "_id": "4b3249ef-6e57-4d2c-bc5f-6d9c27498b40",
       "_model_module_version": "0.1.3",
       "_view_module_version": "0.1.3",
       "disabled": true,
       "icon": "table",
       "name": "xxx (100,) float64",
       "opened": false
      }
     },
     "f00b89d8b7534c7289a93239f3f9658c": {
      "model_module": "ipytree",
      "model_module_version": "0.1.3",
      "model_name": "NodeModel",
      "state": {
       "_id": "fbb3d939-5de1-4f8e-a61b-6e6201d75092",
       "_model_module_version": "0.1.3",
       "_view_module_version": "0.1.3",
       "disabled": true,
       "icon": "table",
       "name": "xxx (100,) float64",
       "opened": false
      }
     },
     "f082b56b746647d29007253f5d0d19d8": {
      "model_module": "ipytree",
      "model_module_version": "0.1.3",
      "model_name": "TreeModel",
      "state": {
       "_model_module_version": "0.1.3",
       "_view_module_version": "0.1.3",
       "layout": "IPY_MODEL_dac661ca652a49f0ab9d8be85260ac1d",
       "nodes": [
        "IPY_MODEL_7c6c494be1ba4c3195db066e809a1f37"
       ]
      }
     },
     "f45b38ee210d43b3bedfdac3115d9a00": {
      "model_module": "ipytree",
      "model_module_version": "0.1.3",
      "model_name": "NodeModel",
      "state": {
       "_id": "6dd9f626-07ca-4b6a-b3ab-3e1c713cb602",
       "_model_module_version": "0.1.3",
       "_view_module_version": "0.1.3",
       "disabled": true,
       "name": "baz",
       "opened": false
      }
     },
     "f6945248181143bb998a9c2b101a5165": {
      "model_module": "ipytree",
      "model_module_version": "0.1.3",
      "model_name": "NodeModel",
      "state": {
       "_id": "16d70054-b13b-4932-aaf4-0b5c720dc583",
       "_model_module_version": "0.1.3",
       "_view_module_version": "0.1.3",
       "disabled": true,
       "icon": "table",
       "name": "aaa (100,) float64",
       "opened": false
      }
     },
     "f8ceffaab071480fac57423c14766e93": {
      "model_module": "ipytree",
      "model_module_version": "0.1.3",
      "model_name": "NodeModel",
      "state": {
       "_id": "8ab3ab29-ed20-46ee-a417-e5aa40a7a4c2",
       "_model_module_version": "0.1.3",
       "_view_module_version": "0.1.3",
       "disabled": true,
       "name": "quux",
       "nodes": [
        "IPY_MODEL_f6945248181143bb998a9c2b101a5165",
        "IPY_MODEL_35d1e5f6a20540e59ddc036f22bf6972"
       ],
       "opened": false
      }
     },
     "fa4606c385a146f39b64714738194d13": {
      "model_module": "ipytree",
      "model_module_version": "0.1.3",
      "model_name": "NodeModel",
      "state": {
       "_id": "c5294f10-e94b-40e3-991f-b02a5b882017",
       "_model_module_version": "0.1.3",
       "_view_module_version": "0.1.3",
       "disabled": true,
       "name": "/",
       "nodes": [
        "IPY_MODEL_37ea21387b8a46bc8d09ea5ce3d4915e",
        "IPY_MODEL_7be2600dd87b4e218b8c110790d83966"
       ]
      }
     },
     "fa9a4ebf753b475daacf77dbbadc75cd": {
      "model_module": "ipytree",
      "model_module_version": "0.1.3",
      "model_name": "NodeModel",
      "state": {
       "_id": "49988860-3e20-47c9-9822-19d545f91cd1",
       "_model_module_version": "0.1.3",
       "_view_module_version": "0.1.3",
       "disabled": true,
       "icon": "table",
       "name": "aaa (100,) float64",
       "opened": false
      }
     }
    },
    "version_major": 2,
    "version_minor": 0
   }
  }
 },
 "nbformat": 4,
 "nbformat_minor": 4
}
