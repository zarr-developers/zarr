{
 "cells": [
  {
   "cell_type": "code",
   "execution_count": 1,
   "metadata": {},
   "outputs": [
    {
     "data": {
      "text/plain": [
       "'2.3.3.dev9+dirty'"
      ]
     },
     "execution_count": 1,
     "metadata": {},
     "output_type": "execute_result"
    }
   ],
   "source": [
    "import zarr\n",
    "zarr.__version__"
   ]
  },
  {
   "cell_type": "code",
   "execution_count": 2,
   "metadata": {},
   "outputs": [],
   "source": [
    "g1 = zarr.group()\n",
    "g2 = g1.create_group('foo')\n",
    "g3 = g1.create_group('bar')\n",
    "g3.create_group('baz')\n",
    "g3.create_dataset('xxx', shape=100)\n",
    "g3.create_dataset('yyy', shape=(100, 100), dtype='i4')\n",
    "g5 = g3.create_group('quux')\n",
    "g5.create_dataset('aaa', shape=100)\n",
    "g5.create_dataset('bbb', shape=(100, 100), dtype='i4')\n",
    "g7 = g3.create_group('zoo')"
   ]
  },
  {
   "cell_type": "markdown",
   "metadata": {},
   "source": [
    "Generate text (unicode) tree:"
   ]
  },
  {
   "cell_type": "code",
   "execution_count": 3,
   "metadata": {},
   "outputs": [
    {
     "name": "stdout",
     "output_type": "stream",
     "text": [
      "/\n",
      " ├── bar\n",
      " │   ├── baz\n",
      " │   ├── quux\n",
      " │   │   ├── aaa (100,) float64\n",
      " │   │   └── bbb (100, 100) int32\n",
      " │   ├── xxx (100,) float64\n",
      " │   ├── yyy (100, 100) int32\n",
      " │   └── zoo\n",
      " └── foo\n"
     ]
    }
   ],
   "source": [
    "print(g1.tree())"
   ]
  },
  {
   "cell_type": "markdown",
   "metadata": {},
   "source": [
    "The ``level`` parameter controls how deep the tree is."
   ]
  },
  {
   "cell_type": "code",
   "execution_count": 4,
   "metadata": {},
   "outputs": [
    {
     "name": "stdout",
     "output_type": "stream",
     "text": [
      "/\n",
      " ├── bar\n",
      " └── foo\n"
     ]
    }
   ],
   "source": [
    "print(g1.tree(level=1))"
   ]
  },
  {
   "cell_type": "code",
   "execution_count": 5,
   "metadata": {},
   "outputs": [
    {
     "name": "stdout",
     "output_type": "stream",
     "text": [
      "/\n",
      " ├── bar\n",
      " │   ├── baz\n",
      " │   ├── quux\n",
      " │   ├── xxx (100,) float64\n",
      " │   ├── yyy (100, 100) int32\n",
      " │   └── zoo\n",
      " └── foo\n"
     ]
    }
   ],
   "source": [
    "print(g1.tree(level=2))"
   ]
  },
  {
   "cell_type": "markdown",
   "metadata": {},
   "source": [
    "Alternative plain ASCII tree:"
   ]
  },
  {
   "cell_type": "code",
   "execution_count": 6,
   "metadata": {},
   "outputs": [
    {
     "name": "stdout",
     "output_type": "stream",
     "text": [
      "/\n",
      " +-- bar\n",
      " |   +-- baz\n",
      " |   +-- quux\n",
      " |   |   +-- aaa (100,) float64\n",
      " |   |   +-- bbb (100, 100) int32\n",
      " |   +-- xxx (100,) float64\n",
      " |   +-- yyy (100, 100) int32\n",
      " |   +-- zoo\n",
      " +-- foo\n"
     ]
    }
   ],
   "source": [
    "print(bytes(g1.tree()).decode())"
   ]
  },
  {
   "cell_type": "markdown",
   "metadata": {},
   "source": [
    "HTML trees:"
   ]
  },
  {
   "cell_type": "code",
   "execution_count": 7,
   "metadata": {},
   "outputs": [
    {
     "data": {
      "application/vnd.jupyter.widget-view+json": {
       "model_id": "5eed2443d59448a8a44ee99b9923e1e8",
       "version_major": 2,
       "version_minor": 0
      },
      "text/plain": [
       "Tree(nodes=(Node(name='/', nodes=(Node(name='bar', nodes=(Node(name='baz', opened=False), Node(name='quux', no…"
      ]
     },
     "metadata": {},
     "output_type": "display_data"
    }
   ],
   "source": [
    "g1.tree()"
   ]
  },
  {
   "cell_type": "markdown",
   "metadata": {},
   "source": [
    "Use ``expand=True`` to have all groups automatically expanded."
   ]
  },
  {
   "cell_type": "code",
   "execution_count": 8,
   "metadata": {},
   "outputs": [
    {
     "data": {
      "application/vnd.jupyter.widget-view+json": {
       "model_id": "38a14347b6e9437f9b6d44ef90034a8a",
       "version_major": 2,
       "version_minor": 0
      },
      "text/plain": [
       "Tree(nodes=(Node(name='/', nodes=(Node(name='bar', nodes=(Node(name='baz', opened=False), Node(name='quux', no…"
      ]
     },
     "metadata": {},
     "output_type": "display_data"
    }
   ],
   "source": [
    "g1.tree(expand=True)"
   ]
  },
  {
   "cell_type": "code",
   "execution_count": 9,
   "metadata": {},
   "outputs": [
    {
     "data": {
      "application/vnd.jupyter.widget-view+json": {
       "model_id": "44a0cd65f4ba44498915a4b518df8b80",
       "version_major": 2,
       "version_minor": 0
      },
      "text/plain": [
       "Tree(nodes=(Node(name='/', nodes=(Node(name='bar', nodes=(Node(name='baz', opened=False), Node(name='quux', op…"
      ]
     },
     "metadata": {},
     "output_type": "display_data"
    }
   ],
   "source": [
    "g1.tree(expand=True, level=2)"
   ]
  },
  {
   "cell_type": "code",
   "execution_count": 10,
   "metadata": {},
   "outputs": [
    {
     "data": {
      "application/vnd.jupyter.widget-view+json": {
       "model_id": "bd9a85a1aeb140db9e3b3e056d0d5d02",
       "version_major": 2,
       "version_minor": 0
      },
      "text/plain": [
       "Tree(nodes=(Node(name='/', nodes=(Node(name='bar'), Node(name='foo'))),))"
      ]
     },
     "metadata": {},
     "output_type": "display_data"
    }
   ],
   "source": [
    "g1.tree(expand=True, level=1)"
   ]
  },
  {
   "cell_type": "markdown",
   "metadata": {},
   "source": [
    "The ``expand`` parameter can also be an integer, giving the depth to expand to."
   ]
  },
  {
   "cell_type": "code",
   "execution_count": 11,
   "metadata": {},
   "outputs": [
    {
     "data": {
      "application/vnd.jupyter.widget-view+json": {
       "model_id": "be3834d4255946709ba937bb8718c32c",
       "version_major": 2,
       "version_minor": 0
      },
      "text/plain": [
       "Tree(nodes=(Node(name='/', nodes=(Node(name='bar', nodes=(Node(name='baz', opened=False), Node(name='quux', no…"
      ]
     },
     "metadata": {},
     "output_type": "display_data"
    }
   ],
   "source": [
    "g1.tree(expand=1)"
   ]
  },
  {
   "cell_type": "code",
   "execution_count": 12,
   "metadata": {},
   "outputs": [
    {
     "data": {
      "application/vnd.jupyter.widget-view+json": {
       "model_id": "dcac674cb75341358cd6db745b412423",
       "version_major": 2,
       "version_minor": 0
      },
      "text/plain": [
       "Tree(nodes=(Node(name='/', nodes=(Node(name='bar', nodes=(Node(name='baz', opened=False), Node(name='quux', no…"
      ]
     },
     "metadata": {},
     "output_type": "display_data"
    }
   ],
   "source": [
    "g1.tree(expand=2)"
   ]
  },
  {
   "cell_type": "code",
   "execution_count": 13,
   "metadata": {},
   "outputs": [
    {
     "data": {
      "application/vnd.jupyter.widget-view+json": {
       "model_id": "579769ba78224a19885c7ce3d3b67a42",
       "version_major": 2,
       "version_minor": 0
      },
      "text/plain": [
       "Tree(nodes=(Node(name='/', nodes=(Node(name='bar', nodes=(Node(name='baz', opened=False), Node(name='quux', no…"
      ]
     },
     "metadata": {},
     "output_type": "display_data"
    }
   ],
   "source": [
    "g1.tree(expand=3)"
   ]
  },
  {
   "cell_type": "markdown",
   "metadata": {},
   "source": [
    "Change default icons, use icons from jstree default theme:"
   ]
  },
  {
   "cell_type": "code",
   "execution_count": 14,
   "metadata": {},
   "outputs": [],
   "source": [
    "zarr.util.tree_array_icon = 'jstree-file'\n",
    "zarr.util.tree_group_icon = 'jstree-folder'"
   ]
  },
  {
   "cell_type": "code",
   "execution_count": 15,
   "metadata": {},
   "outputs": [
    {
     "data": {
      "application/vnd.jupyter.widget-view+json": {
       "model_id": "5f6643c326bd43159328a147451f95de",
       "version_major": 2,
       "version_minor": 0
      },
      "text/plain": [
       "Tree(nodes=(Node(icon='jstree-folder', name='/', nodes=(Node(icon='jstree-folder', name='bar', nodes=(Node(ico…"
      ]
     },
     "metadata": {},
     "output_type": "display_data"
    }
   ],
   "source": [
    "g1.tree(expand=True)"
   ]
  },
  {
   "cell_type": "markdown",
   "metadata": {},
   "source": [
    "Change default icons, use font awesome icons."
   ]
  },
  {
   "cell_type": "code",
   "execution_count": 16,
   "metadata": {},
   "outputs": [],
   "source": [
    "zarr.util.tree_array_icon = 'fa fa-space-shuttle'\n",
    "zarr.util.tree_group_icon = 'fa fa-star-o'"
   ]
  },
  {
   "cell_type": "code",
   "execution_count": 17,
   "metadata": {},
   "outputs": [
    {
     "data": {
      "application/vnd.jupyter.widget-view+json": {
       "model_id": "69b0921c8e4744fc953fc9561b60c478",
       "version_major": 2,
       "version_minor": 0
      },
      "text/plain": [
       "Tree(nodes=(Node(icon='fa fa-star-o', name='/', nodes=(Node(icon='fa fa-star-o', name='bar', nodes=(Node(icon=…"
      ]
     },
     "metadata": {},
     "output_type": "display_data"
    }
   ],
   "source": [
    "g1.tree(expand=True)"
   ]
  },
  {
   "cell_type": "code",
   "execution_count": null,
   "metadata": {},
   "outputs": [],
   "source": []
  }
 ],
 "metadata": {
  "kernelspec": {
   "display_name": "Python 3",
   "language": "python",
   "name": "python3"
  },
  "language_info": {
   "codemirror_mode": {
    "name": "ipython",
    "version": 3
   },
   "file_extension": ".py",
   "mimetype": "text/x-python",
   "name": "python",
   "nbconvert_exporter": "python",
   "pygments_lexer": "ipython3",
   "version": "3.7.2"
  },
  "widgets": {
   "application/vnd.jupyter.widget-state+json": {
    "state": {
     "0189ac8d9d104350ac242b6ffc417997": {
      "model_module": "ipytree",
      "model_module_version": "0.1.3",
      "model_name": "NodeModel",
      "state": {
       "_id": "947d61c0-e132-4cd0-bad8-c978c592cb97",
       "_model_module_version": "0.1.3",
       "_view_module_version": "0.1.3",
       "icon": "table",
       "name": "xxx (100,) float64",
       "opened": false
      }
     },
     "02aa8f0b9c994ae08394633e531d2b10": {
      "model_module": "ipytree",
      "model_module_version": "0.1.3",
      "model_name": "NodeModel",
      "state": {
       "_id": "64a91d28-a03b-4fc5-9f32-e1a59767cd17",
       "_model_module_version": "0.1.3",
       "_view_module_version": "0.1.3",
       "name": "foo"
      }
     },
     "02d18c866370466caa4d4b95bd6c4c06": {
      "model_module": "ipytree",
      "model_module_version": "0.1.3",
      "model_name": "NodeModel",
      "state": {
       "_id": "a1cf6129-5acc-47dc-92cf-6d518da90ef1",
       "_model_module_version": "0.1.3",
       "_view_module_version": "0.1.3",
       "name": "baz",
       "opened": false
      }
     },
     "03e641545d9f4d7fbcda6df8ec33d7dc": {
      "model_module": "ipytree",
      "model_module_version": "0.1.3",
      "model_name": "NodeModel",
      "state": {
       "_id": "9288c2aa-4c8b-4f34-b7f2-f4a6009222e0",
       "_model_module_version": "0.1.3",
       "_view_module_version": "0.1.3",
       "name": "/",
       "nodes": [
        "IPY_MODEL_507846323f01418eb64d67af3ec6e27e",
        "IPY_MODEL_844313a955ce4d0588764c9e4083307a"
       ]
      }
     },
     "0414393519c34550926ea0bbf7e5c038": {
      "model_module": "ipytree",
      "model_module_version": "0.1.3",
      "model_name": "NodeModel",
      "state": {
       "_id": "22b1215d-465a-437a-b438-17fa22d0260f",
       "_model_module_version": "0.1.3",
       "_view_module_version": "0.1.3",
       "icon": "table",
       "name": "xxx (100,) float64",
       "opened": false
      }
     },
     "0545657c16ca4366a270d7d81d4fb8f6": {
      "model_module": "ipytree",
      "model_module_version": "0.1.3",
      "model_name": "NodeModel",
      "state": {
       "_id": "bd37bb49-f49a-4ef0-a88b-23c5f1e4843a",
       "_model_module_version": "0.1.3",
       "_view_module_version": "0.1.3",
       "icon": "table",
       "name": "xxx (100,) float64",
       "opened": false
      }
     },
     "06409a96f27641848e1ae9daca098da8": {
      "model_module": "@jupyter-widgets/base",
      "model_module_version": "1.2.0",
      "model_name": "LayoutModel",
      "state": {}
     },
     "08db9accd1c144fab715928e724246ef": {
      "model_module": "ipytree",
      "model_module_version": "0.1.3",
      "model_name": "NodeModel",
      "state": {
       "_id": "becfd040-9084-429e-b470-8b13a96ca337",
       "_model_module_version": "0.1.3",
       "_view_module_version": "0.1.3",
       "name": "quux",
       "nodes": [
        "IPY_MODEL_3ac0beb1b8144e649b8cc2d4d0ca2a2a",
        "IPY_MODEL_d575fac6de2440a6920b2af3cdb8ca1c"
       ],
       "opened": false
      }
     },
     "0a3bd7003bb74c27a6794239e45dfca8": {
      "model_module": "ipytree",
      "model_module_version": "0.1.3",
      "model_name": "NodeModel",
      "state": {
       "_id": "a7807fea-bae2-41a5-8bf3-048868998965",
       "_model_module_version": "0.1.3",
       "_view_module_version": "0.1.3",
       "icon": "fa fa-space-shuttle",
       "name": "xxx (100,) float64",
       "opened": false
      }
     },
     "0e3da685608a4ac49828a2dab75fd749": {
      "model_module": "ipytree",
      "model_module_version": "0.1.3",
      "model_name": "NodeModel",
      "state": {
       "_id": "fdc52362-bce2-4678-a128-8f3e0442e7a9",
       "_model_module_version": "0.1.3",
       "_view_module_version": "0.1.3",
       "name": "quux",
       "opened": false
      }
     },
     "0edafd8f9885481694f43f7d2e362e6c": {
      "model_module": "ipytree",
      "model_module_version": "0.1.3",
      "model_name": "NodeModel",
      "state": {
       "_id": "f1a81adf-4525-4ba1-a873-c938120cf3b4",
       "_model_module_version": "0.1.3",
       "_view_module_version": "0.1.3",
       "name": "quux",
       "nodes": [
        "IPY_MODEL_a1ae5e4f45a24ca19bb03257bcf1db40",
        "IPY_MODEL_5ec6fcd70b74427a81dbd0747919a91d"
       ],
       "opened": false
      }
     },
     "19fe89ff34c9436aaaec28e741d073ab": {
      "model_module": "ipytree",
      "model_module_version": "0.1.3",
      "model_name": "NodeModel",
      "state": {
       "_id": "faba9cf1-6d12-4a10-b86b-988edfedf028",
       "_model_module_version": "0.1.3",
       "_view_module_version": "0.1.3",
       "icon": "jstree-folder",
       "name": "foo"
      }
     },
     "1bf3ecc00c3047ad9a9b119936e190d5": {
      "model_module": "ipytree",
      "model_module_version": "0.1.3",
      "model_name": "NodeModel",
      "state": {
       "_id": "e38f9527-326d-4175-845e-61abfec51363",
       "_model_module_version": "0.1.3",
       "_view_module_version": "0.1.3",
       "icon": "jstree-folder",
       "name": "baz",
       "opened": false
      }
     },
     "1d3d1b4619354fae8498d3b9183fbeb2": {
      "model_module": "ipytree",
      "model_module_version": "0.1.3",
      "model_name": "NodeModel",
      "state": {
       "_id": "25cd325e-621e-4f7d-b640-2fb21c034283",
       "_model_module_version": "0.1.3",
       "_view_module_version": "0.1.3",
       "name": "foo"
      }
     },
     "1f5e7a15087e49d49f8338bf35de7cdb": {
      "model_module": "ipytree",
      "model_module_version": "0.1.3",
      "model_name": "NodeModel",
      "state": {
       "_id": "63cf3144-f7ae-41e1-a6f0-5dab87cfad38",
       "_model_module_version": "0.1.3",
       "_view_module_version": "0.1.3",
       "name": "quux",
       "nodes": [
        "IPY_MODEL_9baf8cbcada6440287c3484be9d980e6",
        "IPY_MODEL_50a7705c032645029801ad1df1adc59e"
       ],
       "opened": false
      }
     },
     "1f6d26b53fb54f949d8a1a158ca5752f": {
      "model_module": "@jupyter-widgets/base",
      "model_module_version": "1.2.0",
      "model_name": "LayoutModel",
      "state": {}
     },
     "1f9dae1f6f824d5297bab4dbeca36e81": {
      "model_module": "ipytree",
      "model_module_version": "0.1.3",
      "model_name": "NodeModel",
      "state": {
       "_id": "ce300d11-2485-4276-b6c3-827c6f0c8338",
       "_model_module_version": "0.1.3",
       "_view_module_version": "0.1.3",
       "name": "/",
       "nodes": [
        "IPY_MODEL_531ab3f41f8c4becab1d24606476b23a",
        "IPY_MODEL_f69b043c3cd245c5890d792498380a53"
       ]
      }
     },
     "20fcb7598d754ae0ba8b55ef94abbd9d": {
      "model_module": "ipytree",
      "model_module_version": "0.1.3",
      "model_name": "NodeModel",
      "state": {
       "_id": "1f88bff2-8ac1-4370-b915-e5ea1ab63651",
       "_model_module_version": "0.1.3",
       "_view_module_version": "0.1.3",
       "name": "bar",
       "nodes": [
        "IPY_MODEL_7dba143a3a284e859ce548ba361f67b3",
        "IPY_MODEL_1f5e7a15087e49d49f8338bf35de7cdb",
        "IPY_MODEL_0189ac8d9d104350ac242b6ffc417997",
        "IPY_MODEL_e534743c5b984e7ab64e2ba1a2dd6f68",
        "IPY_MODEL_4870c793dd9946fbb174fb7759c0e801"
       ]
      }
     },
     "215a99008103485b9232454d6c0ed0f3": {
      "model_module": "ipytree",
      "model_module_version": "0.1.3",
      "model_name": "NodeModel",
      "state": {
       "_id": "f740245c-47ba-42bb-8d79-38734d51d02f",
       "_model_module_version": "0.1.3",
       "_view_module_version": "0.1.3",
       "name": "bar",
       "nodes": [
        "IPY_MODEL_8a755d9e90464eaebbe514c278110994",
        "IPY_MODEL_81e9224c7d544010b8f9744b906c4cf2",
        "IPY_MODEL_dd7597a791fc45fcb6fec2bb3495382a",
        "IPY_MODEL_5a81a13d7a8f4287bbb783c816ba9bf9",
        "IPY_MODEL_e45a6160d94f444eaa56235b085f158f"
       ]
      }
     },
     "2311fab0805c4676a88e2a47f3f3391d": {
      "model_module": "ipytree",
      "model_module_version": "0.1.3",
      "model_name": "NodeModel",
      "state": {
       "_id": "40596776-0424-402f-bf50-5ed740b4a5e1",
       "_model_module_version": "0.1.3",
       "_view_module_version": "0.1.3",
       "icon": "fa fa-star-o",
       "name": "zoo",
       "opened": false
      }
     },
     "28260ae283b3417190b3364fe817fcc1": {
      "model_module": "ipytree",
      "model_module_version": "0.1.3",
      "model_name": "NodeModel",
      "state": {
       "_id": "3493bc9e-9e8d-4692-b0fd-edc2860a9e03",
       "_model_module_version": "0.1.3",
       "_view_module_version": "0.1.3",
       "name": "zoo",
       "opened": false
      }
     },
     "2dbae1bb7c78492695b4d18333ce9074": {
      "model_module": "ipytree",
      "model_module_version": "0.1.3",
      "model_name": "NodeModel",
      "state": {
       "_id": "360f979a-a4ee-40fe-805b-19a0ea73f6e2",
       "_model_module_version": "0.1.3",
       "_view_module_version": "0.1.3",
       "icon": "fa fa-star-o",
       "name": "foo"
      }
     },
     "2f09d0cac5794fa1bdf8d43b2128fad8": {
      "model_module": "ipytree",
      "model_module_version": "0.1.3",
      "model_name": "NodeModel",
      "state": {
       "_id": "95abeafc-5eb6-4481-8571-32db216b3fe4",
       "_model_module_version": "0.1.3",
       "_view_module_version": "0.1.3",
       "icon": "fa fa-space-shuttle",
       "name": "yyy (100, 100) int32",
       "opened": false
      }
     },
     "2f163c4b3a17410c953046d879c61263": {
      "model_module": "ipytree",
      "model_module_version": "0.1.3",
      "model_name": "NodeModel",
      "state": {
       "_id": "b0406601-733a-4a79-bda6-7ee2f3db48a6",
       "_model_module_version": "0.1.3",
       "_view_module_version": "0.1.3",
       "name": "/",
       "nodes": [
        "IPY_MODEL_215a99008103485b9232454d6c0ed0f3",
        "IPY_MODEL_02aa8f0b9c994ae08394633e531d2b10"
       ]
      }
     },
     "30af503b37da457ab1aab7e9b3ddd803": {
      "model_module": "ipytree",
      "model_module_version": "0.1.3",
      "model_name": "NodeModel",
      "state": {
       "_id": "218d6e15-df7d-4341-a064-a943878c444a",
       "_model_module_version": "0.1.3",
       "_view_module_version": "0.1.3",
       "name": "/",
       "nodes": [
        "IPY_MODEL_737b30241dd4499b823263f5a8826cf5",
        "IPY_MODEL_1d3d1b4619354fae8498d3b9183fbeb2"
       ]
      }
     },
     "33f859c208e849ac8d1b9b6bb7537f87": {
      "model_module": "ipytree",
      "model_module_version": "0.1.3",
      "model_name": "NodeModel",
      "state": {
       "_id": "341a0dfa-fb69-40b0-8330-5da045749b20",
       "_model_module_version": "0.1.3",
       "_view_module_version": "0.1.3",
       "icon": "table",
       "name": "aaa (100,) float64",
       "opened": false
      }
     },
     "38a14347b6e9437f9b6d44ef90034a8a": {
      "model_module": "ipytree",
      "model_module_version": "0.1.3",
      "model_name": "TreeModel",
      "state": {
       "_model_module_version": "0.1.3",
       "_view_module_version": "0.1.3",
       "layout": "IPY_MODEL_56b4118b660e4059885c26d2ebf63a09",
       "nodes": [
        "IPY_MODEL_2f163c4b3a17410c953046d879c61263"
       ]
      }
     },
     "3ac0beb1b8144e649b8cc2d4d0ca2a2a": {
      "model_module": "ipytree",
      "model_module_version": "0.1.3",
      "model_name": "NodeModel",
      "state": {
       "_id": "2ed86a1d-0757-4e68-996f-f056a89dc902",
       "_model_module_version": "0.1.3",
       "_view_module_version": "0.1.3",
       "icon": "table",
       "name": "aaa (100,) float64",
       "opened": false
      }
     },
     "412032da93694e9c9aa6fd7961143bda": {
      "model_module": "ipytree",
      "model_module_version": "0.1.3",
      "model_name": "NodeModel",
      "state": {
       "_id": "6f88d414-8d60-4496-b957-acdcc2b556a8",
       "_model_module_version": "0.1.3",
       "_view_module_version": "0.1.3",
       "name": "zoo",
       "opened": false
      }
     },
     "44a0cd65f4ba44498915a4b518df8b80": {
      "model_module": "ipytree",
      "model_module_version": "0.1.3",
      "model_name": "TreeModel",
      "state": {
       "_model_module_version": "0.1.3",
       "_view_module_version": "0.1.3",
       "layout": "IPY_MODEL_c26eee6c97b945fe875c9b151b3f1cb7",
       "nodes": [
        "IPY_MODEL_a538c919f6ab42719798706c3fd7957b"
       ]
      }
     },
     "4870c793dd9946fbb174fb7759c0e801": {
      "model_module": "ipytree",
      "model_module_version": "0.1.3",
      "model_name": "NodeModel",
      "state": {
       "_id": "58309fd7-87d3-4a71-8b5a-aa75b69aeba8",
       "_model_module_version": "0.1.3",
       "_view_module_version": "0.1.3",
       "name": "zoo",
       "opened": false
      }
     },
     "4ce1df42d7de4bcaac1c065150ad1c6e": {
      "model_module": "ipytree",
      "model_module_version": "0.1.3",
      "model_name": "NodeModel",
      "state": {
       "_id": "0c618a0d-11a3-48a6-bee0-436495454172",
       "_model_module_version": "0.1.3",
       "_view_module_version": "0.1.3",
       "name": "quux",
       "nodes": [
        "IPY_MODEL_33f859c208e849ac8d1b9b6bb7537f87",
        "IPY_MODEL_8e86ecc005744f0cbd22ddfeb88c47ea"
       ],
       "opened": false
      }
     },
     "507846323f01418eb64d67af3ec6e27e": {
      "model_module": "ipytree",
      "model_module_version": "0.1.3",
      "model_name": "NodeModel",
      "state": {
       "_id": "e3f66a3a-0ff7-4dc1-8c8b-18edba0e14de",
       "_model_module_version": "0.1.3",
       "_view_module_version": "0.1.3",
       "name": "bar"
      }
     },
     "50a7705c032645029801ad1df1adc59e": {
      "model_module": "ipytree",
      "model_module_version": "0.1.3",
      "model_name": "NodeModel",
      "state": {
       "_id": "62246775-73ba-475b-a5ad-59eda7068cae",
       "_model_module_version": "0.1.3",
       "_view_module_version": "0.1.3",
       "icon": "table",
       "name": "bbb (100, 100) int32",
       "opened": false
      }
     },
     "50b4b44068024231afe794385e90a34d": {
      "model_module": "ipytree",
      "model_module_version": "0.1.3",
      "model_name": "NodeModel",
      "state": {
       "_id": "b75441e9-62c3-4a56-b1a8-39390fc83f4e",
       "_model_module_version": "0.1.3",
       "_view_module_version": "0.1.3",
       "name": "zoo",
       "opened": false
      }
     },
     "51ee628aa6b348e19952fecfddcd7fb6": {
      "model_module": "@jupyter-widgets/base",
      "model_module_version": "1.2.0",
      "model_name": "LayoutModel",
      "state": {}
     },
     "531ab3f41f8c4becab1d24606476b23a": {
      "model_module": "ipytree",
      "model_module_version": "0.1.3",
      "model_name": "NodeModel",
      "state": {
       "_id": "b26fa60a-d2c6-4dae-b89c-cad76cc5a5af",
       "_model_module_version": "0.1.3",
       "_view_module_version": "0.1.3",
       "name": "bar",
       "nodes": [
        "IPY_MODEL_d5550489bd4644308155d1aaedced674",
        "IPY_MODEL_08db9accd1c144fab715928e724246ef",
        "IPY_MODEL_973acc29c69649ecb2f3ee1af47dcd49",
        "IPY_MODEL_9b23b38f2225479abf21e1fe53a2608f",
        "IPY_MODEL_28260ae283b3417190b3364fe817fcc1"
       ],
       "opened": false
      }
     },
     "56b4118b660e4059885c26d2ebf63a09": {
      "model_module": "@jupyter-widgets/base",
      "model_module_version": "1.2.0",
      "model_name": "LayoutModel",
      "state": {}
     },
     "579769ba78224a19885c7ce3d3b67a42": {
      "model_module": "ipytree",
      "model_module_version": "0.1.3",
      "model_name": "TreeModel",
      "state": {
       "_model_module_version": "0.1.3",
       "_view_module_version": "0.1.3",
       "layout": "IPY_MODEL_1f6d26b53fb54f949d8a1a158ca5752f",
       "nodes": [
        "IPY_MODEL_d9ba5be25ab84f18bffc02b02a9a30c9"
       ]
      }
     },
     "5a62ca5d66344e459dbe706f77d2fd29": {
      "model_module": "ipytree",
      "model_module_version": "0.1.3",
      "model_name": "NodeModel",
      "state": {
       "_id": "ea710340-10ed-44bd-aa99-08a17971ed61",
       "_model_module_version": "0.1.3",
       "_view_module_version": "0.1.3",
       "icon": "jstree-file",
       "name": "xxx (100,) float64",
       "opened": false
      }
     },
     "5a81a13d7a8f4287bbb783c816ba9bf9": {
      "model_module": "ipytree",
      "model_module_version": "0.1.3",
      "model_name": "NodeModel",
      "state": {
       "_id": "75c8acca-90d2-49ff-9b3e-90893715f7e8",
       "_model_module_version": "0.1.3",
       "_view_module_version": "0.1.3",
       "icon": "table",
       "name": "yyy (100, 100) int32",
       "opened": false
      }
     },
     "5bae36d754144e1dbc02b3e2b5e3828a": {
      "model_module": "@jupyter-widgets/base",
      "model_module_version": "1.2.0",
      "model_name": "LayoutModel",
      "state": {}
     },
     "5d52746e13a14564834d75b9c656c5c8": {
      "model_module": "ipytree",
      "model_module_version": "0.1.3",
      "model_name": "NodeModel",
      "state": {
       "_id": "91e9a6a8-563b-46b9-b11a-fc748c29701f",
       "_model_module_version": "0.1.3",
       "_view_module_version": "0.1.3",
       "icon": "jstree-folder",
       "name": "/",
       "nodes": [
        "IPY_MODEL_e6beb38e47e242608872b065dbae7efd",
        "IPY_MODEL_19fe89ff34c9436aaaec28e741d073ab"
       ]
      }
     },
     "5d9c81507e5b4e499952649daed33127": {
      "model_module": "ipytree",
      "model_module_version": "0.1.3",
      "model_name": "NodeModel",
      "state": {
       "_id": "a78b11e1-39bf-4196-b952-19da3fc6b062",
       "_model_module_version": "0.1.3",
       "_view_module_version": "0.1.3",
       "name": "baz",
       "opened": false
      }
     },
     "5ec6fcd70b74427a81dbd0747919a91d": {
      "model_module": "ipytree",
      "model_module_version": "0.1.3",
      "model_name": "NodeModel",
      "state": {
       "_id": "9f905154-e074-4814-bd6f-28c1e94c1f47",
       "_model_module_version": "0.1.3",
       "_view_module_version": "0.1.3",
       "icon": "table",
       "name": "bbb (100, 100) int32",
       "opened": false
      }
     },
     "5eed2443d59448a8a44ee99b9923e1e8": {
      "model_module": "ipytree",
      "model_module_version": "0.1.3",
      "model_name": "TreeModel",
      "state": {
       "_model_module_version": "0.1.3",
       "_view_module_version": "0.1.3",
       "layout": "IPY_MODEL_51ee628aa6b348e19952fecfddcd7fb6",
       "nodes": [
        "IPY_MODEL_1f9dae1f6f824d5297bab4dbeca36e81"
       ]
      }
     },
     "5f36ee60da48427bbfe5390f33be5e33": {
      "model_module": "ipytree",
      "model_module_version": "0.1.3",
      "model_name": "NodeModel",
      "state": {
       "_id": "efaff77d-01d7-443f-9477-08a71d5e399a",
       "_model_module_version": "0.1.3",
       "_view_module_version": "0.1.3",
       "icon": "fa fa-star-o",
       "name": "baz",
       "opened": false
      }
     },
     "5f6643c326bd43159328a147451f95de": {
      "model_module": "ipytree",
      "model_module_version": "0.1.3",
      "model_name": "TreeModel",
      "state": {
       "_model_module_version": "0.1.3",
       "_view_module_version": "0.1.3",
       "layout": "IPY_MODEL_5bae36d754144e1dbc02b3e2b5e3828a",
       "nodes": [
        "IPY_MODEL_5d52746e13a14564834d75b9c656c5c8"
       ]
      }
     },
     "602736467cd649e397ba397db62dc1c9": {
      "model_module": "ipytree",
      "model_module_version": "0.1.3",
      "model_name": "NodeModel",
      "state": {
       "_id": "88a6fdbb-aed4-4b4a-9e0e-e089646c16a5",
       "_model_module_version": "0.1.3",
       "_view_module_version": "0.1.3",
       "icon": "table",
       "name": "yyy (100, 100) int32",
       "opened": false
      }
     },
     "69b0921c8e4744fc953fc9561b60c478": {
      "model_module": "ipytree",
      "model_module_version": "0.1.3",
      "model_name": "TreeModel",
      "state": {
       "_model_module_version": "0.1.3",
       "_view_module_version": "0.1.3",
       "layout": "IPY_MODEL_06409a96f27641848e1ae9daca098da8",
       "nodes": [
        "IPY_MODEL_a3efa4ac0c254e8ab2885f92bc5e3898"
       ]
      }
     },
     "737b30241dd4499b823263f5a8826cf5": {
      "model_module": "ipytree",
      "model_module_version": "0.1.3",
      "model_name": "NodeModel",
      "state": {
       "_id": "365e3357-acf2-4fc5-bac5-52ac1783c627",
       "_model_module_version": "0.1.3",
       "_view_module_version": "0.1.3",
       "name": "bar",
       "nodes": [
        "IPY_MODEL_5d9c81507e5b4e499952649daed33127",
        "IPY_MODEL_4ce1df42d7de4bcaac1c065150ad1c6e",
        "IPY_MODEL_0414393519c34550926ea0bbf7e5c038",
        "IPY_MODEL_d8d246ec3c8a472e8ac013cfffb2c4ad",
        "IPY_MODEL_50b4b44068024231afe794385e90a34d"
       ]
      }
     },
     "794ca260925b4fdeab5bdf2827349b30": {
      "model_module": "ipytree",
      "model_module_version": "0.1.3",
      "model_name": "NodeModel",
      "state": {
       "_id": "a8aa81bf-ab81-44df-9bfd-10c7d89cd234",
       "_model_module_version": "0.1.3",
       "_view_module_version": "0.1.3",
       "name": "bar",
       "nodes": [
        "IPY_MODEL_d3f346721b5844948c36eac50222401c",
        "IPY_MODEL_0e3da685608a4ac49828a2dab75fd749",
        "IPY_MODEL_f09a8fe28ef244abb08fe6c9d024b1b9",
        "IPY_MODEL_c03279df56844f64801e83ce8a15871d",
        "IPY_MODEL_412032da93694e9c9aa6fd7961143bda"
       ]
      }
     },
     "7dba143a3a284e859ce548ba361f67b3": {
      "model_module": "ipytree",
      "model_module_version": "0.1.3",
      "model_name": "NodeModel",
      "state": {
       "_id": "2ad990ce-36a8-45e1-819a-8c5dff197a61",
       "_model_module_version": "0.1.3",
       "_view_module_version": "0.1.3",
       "name": "baz",
       "opened": false
      }
     },
     "81e9224c7d544010b8f9744b906c4cf2": {
      "model_module": "ipytree",
      "model_module_version": "0.1.3",
      "model_name": "NodeModel",
      "state": {
       "_id": "aa1a82d8-8afb-4c7f-b9d4-5902cab662cb",
       "_model_module_version": "0.1.3",
       "_view_module_version": "0.1.3",
       "name": "quux",
       "nodes": [
        "IPY_MODEL_c81c2c5a36674b3c8ea8fd8ef28f8d6b",
        "IPY_MODEL_e78bbc293d5c4261982a27389a785af7"
       ],
       "opened": false
      }
     },
     "844313a955ce4d0588764c9e4083307a": {
      "model_module": "ipytree",
      "model_module_version": "0.1.3",
      "model_name": "NodeModel",
      "state": {
       "_id": "459d2013-a2c7-4823-841b-fb5c31892d78",
       "_model_module_version": "0.1.3",
       "_view_module_version": "0.1.3",
       "name": "foo"
      }
     },
     "8599b9c56358464fb0b150dfd6779b64": {
      "model_module": "ipytree",
      "model_module_version": "0.1.3",
      "model_name": "NodeModel",
      "state": {
       "_id": "fc019d8b-0126-4ab1-9a16-05169c2c5785",
       "_model_module_version": "0.1.3",
       "_view_module_version": "0.1.3",
       "name": "bar",
       "nodes": [
        "IPY_MODEL_02d18c866370466caa4d4b95bd6c4c06",
        "IPY_MODEL_0edafd8f9885481694f43f7d2e362e6c",
        "IPY_MODEL_0545657c16ca4366a270d7d81d4fb8f6",
        "IPY_MODEL_602736467cd649e397ba397db62dc1c9",
        "IPY_MODEL_a8ce8a9c999040d69b1d695cd8b08e70"
       ]
      }
     },
     "8a755d9e90464eaebbe514c278110994": {
      "model_module": "ipytree",
      "model_module_version": "0.1.3",
      "model_name": "NodeModel",
      "state": {
       "_id": "5c082a5c-7732-41e1-b0cf-623a62f3a8dd",
       "_model_module_version": "0.1.3",
       "_view_module_version": "0.1.3",
       "name": "baz",
       "opened": false
      }
     },
     "8e86ecc005744f0cbd22ddfeb88c47ea": {
      "model_module": "ipytree",
      "model_module_version": "0.1.3",
      "model_name": "NodeModel",
      "state": {
       "_id": "95eac8ae-16c6-4fc0-8691-612b0a5b8f11",
       "_model_module_version": "0.1.3",
       "_view_module_version": "0.1.3",
       "icon": "table",
       "name": "bbb (100, 100) int32",
       "opened": false
      }
     },
     "95f6e4b081134b38bfd3ed3f8cfee88f": {
      "model_module": "ipytree",
      "model_module_version": "0.1.3",
      "model_name": "NodeModel",
      "state": {
       "_id": "9b46c881-5542-4211-be04-36ed1692d81e",
       "_model_module_version": "0.1.3",
       "_view_module_version": "0.1.3",
       "icon": "fa fa-star-o",
       "name": "quux",
       "nodes": [
        "IPY_MODEL_d1e7feeed5e047aba00ed23d535a8b63",
        "IPY_MODEL_dd2bfa63c5e642cd837cb0be64cc50ca"
       ],
       "opened": false
      }
     },
     "973acc29c69649ecb2f3ee1af47dcd49": {
      "model_module": "ipytree",
      "model_module_version": "0.1.3",
      "model_name": "NodeModel",
      "state": {
       "_id": "841d382e-3c0b-40e9-b39a-4368ab4cb92f",
       "_model_module_version": "0.1.3",
       "_view_module_version": "0.1.3",
       "icon": "table",
       "name": "xxx (100,) float64",
       "opened": false
      }
     },
     "9b23b38f2225479abf21e1fe53a2608f": {
      "model_module": "ipytree",
      "model_module_version": "0.1.3",
      "model_name": "NodeModel",
      "state": {
       "_id": "cf214fa1-e30e-4dbc-8ad7-421c85f5cb8b",
       "_model_module_version": "0.1.3",
       "_view_module_version": "0.1.3",
       "icon": "table",
       "name": "yyy (100, 100) int32",
       "opened": false
      }
     },
     "9baf8cbcada6440287c3484be9d980e6": {
      "model_module": "ipytree",
      "model_module_version": "0.1.3",
      "model_name": "NodeModel",
      "state": {
       "_id": "0b32a9de-05b2-408c-93fd-2972c3f4f1eb",
       "_model_module_version": "0.1.3",
       "_view_module_version": "0.1.3",
       "icon": "table",
       "name": "aaa (100,) float64",
       "opened": false
      }
     },
     "a1ae5e4f45a24ca19bb03257bcf1db40": {
      "model_module": "ipytree",
      "model_module_version": "0.1.3",
      "model_name": "NodeModel",
      "state": {
       "_id": "ee39ee5f-5567-4f49-b366-2529b1994d64",
       "_model_module_version": "0.1.3",
       "_view_module_version": "0.1.3",
       "icon": "table",
       "name": "aaa (100,) float64",
       "opened": false
      }
     },
     "a3efa4ac0c254e8ab2885f92bc5e3898": {
      "model_module": "ipytree",
      "model_module_version": "0.1.3",
      "model_name": "NodeModel",
      "state": {
       "_id": "40ec495b-60e3-4f7c-a6b6-8f97569eb26b",
       "_model_module_version": "0.1.3",
       "_view_module_version": "0.1.3",
       "icon": "fa fa-star-o",
       "name": "/",
       "nodes": [
        "IPY_MODEL_defdc1dabffc4f3193a5501540e21977",
        "IPY_MODEL_2dbae1bb7c78492695b4d18333ce9074"
       ]
      }
     },
     "a45754fd31274b3eb3457b0351bb5452": {
      "model_module": "ipytree",
      "model_module_version": "0.1.3",
      "model_name": "NodeModel",
      "state": {
       "_id": "77c33e21-0af4-470c-bf17-ca805e08cca8",
       "_model_module_version": "0.1.3",
       "_view_module_version": "0.1.3",
       "icon": "jstree-folder",
       "name": "quux",
       "nodes": [
        "IPY_MODEL_a633b84f2cdf449a9589d6e277f93788",
        "IPY_MODEL_f5da954975b94029844db002547f4323"
       ],
       "opened": false
      }
     },
     "a538c919f6ab42719798706c3fd7957b": {
      "model_module": "ipytree",
      "model_module_version": "0.1.3",
      "model_name": "NodeModel",
      "state": {
       "_id": "8d559b28-1612-46b5-a8e7-ffbfa06a9a01",
       "_model_module_version": "0.1.3",
       "_view_module_version": "0.1.3",
       "name": "/",
       "nodes": [
        "IPY_MODEL_794ca260925b4fdeab5bdf2827349b30",
        "IPY_MODEL_fa79a0eb33b248388c1a84393d1ed048"
       ]
      }
     },
     "a633b84f2cdf449a9589d6e277f93788": {
      "model_module": "ipytree",
      "model_module_version": "0.1.3",
      "model_name": "NodeModel",
      "state": {
       "_id": "0bf36e11-592b-4d75-a2f2-cd2163be79dc",
       "_model_module_version": "0.1.3",
       "_view_module_version": "0.1.3",
       "icon": "jstree-file",
       "name": "aaa (100,) float64",
       "opened": false
      }
     },
     "a8ce8a9c999040d69b1d695cd8b08e70": {
      "model_module": "ipytree",
      "model_module_version": "0.1.3",
      "model_name": "NodeModel",
      "state": {
       "_id": "0a2bc226-3e75-4d61-ac23-93b048147ad0",
       "_model_module_version": "0.1.3",
       "_view_module_version": "0.1.3",
       "name": "zoo",
       "opened": false
      }
     },
     "a9cdbdd386a146f286f5a46564dd49c3": {
      "model_module": "@jupyter-widgets/base",
      "model_module_version": "1.2.0",
      "model_name": "LayoutModel",
      "state": {}
     },
     "bcd01f8007864c93a69075b46b387e4f": {
      "model_module": "ipytree",
      "model_module_version": "0.1.3",
      "model_name": "NodeModel",
      "state": {
       "_id": "752de693-796f-4ba0-bd88-2f696a18057f",
       "_model_module_version": "0.1.3",
       "_view_module_version": "0.1.3",
       "name": "foo"
      }
     },
     "bd9a85a1aeb140db9e3b3e056d0d5d02": {
      "model_module": "ipytree",
      "model_module_version": "0.1.3",
      "model_name": "TreeModel",
      "state": {
       "_model_module_version": "0.1.3",
       "_view_module_version": "0.1.3",
       "layout": "IPY_MODEL_c566619080854fa3a043263c4a9d4dd6",
       "nodes": [
        "IPY_MODEL_03e641545d9f4d7fbcda6df8ec33d7dc"
       ]
      }
     },
     "be3834d4255946709ba937bb8718c32c": {
      "model_module": "ipytree",
      "model_module_version": "0.1.3",
      "model_name": "TreeModel",
      "state": {
       "_model_module_version": "0.1.3",
       "_view_module_version": "0.1.3",
       "layout": "IPY_MODEL_ed80333a84624fada5262db5095b6429",
       "nodes": [
        "IPY_MODEL_30af503b37da457ab1aab7e9b3ddd803"
       ]
      }
     },
     "c03279df56844f64801e83ce8a15871d": {
      "model_module": "ipytree",
      "model_module_version": "0.1.3",
      "model_name": "NodeModel",
      "state": {
       "_id": "2912299f-ca76-488f-b8e4-763c20654a47",
       "_model_module_version": "0.1.3",
       "_view_module_version": "0.1.3",
       "icon": "table",
       "name": "yyy (100, 100) int32",
       "opened": false
      }
     },
     "c26eee6c97b945fe875c9b151b3f1cb7": {
      "model_module": "@jupyter-widgets/base",
      "model_module_version": "1.2.0",
      "model_name": "LayoutModel",
      "state": {}
     },
     "c566619080854fa3a043263c4a9d4dd6": {
      "model_module": "@jupyter-widgets/base",
      "model_module_version": "1.2.0",
      "model_name": "LayoutModel",
      "state": {}
     },
     "c81c2c5a36674b3c8ea8fd8ef28f8d6b": {
      "model_module": "ipytree",
      "model_module_version": "0.1.3",
      "model_name": "NodeModel",
      "state": {
       "_id": "19c05879-6530-4790-8cd3-3d08dc2d480c",
       "_model_module_version": "0.1.3",
       "_view_module_version": "0.1.3",
       "icon": "table",
       "name": "aaa (100,) float64",
       "opened": false
      }
     },
     "d1e7feeed5e047aba00ed23d535a8b63": {
      "model_module": "ipytree",
      "model_module_version": "0.1.3",
      "model_name": "NodeModel",
      "state": {
       "_id": "e888e474-384f-460d-a4ba-d3ad7bc4096b",
       "_model_module_version": "0.1.3",
       "_view_module_version": "0.1.3",
       "icon": "fa fa-space-shuttle",
       "name": "aaa (100,) float64",
       "opened": false
      }
     },
     "d3f346721b5844948c36eac50222401c": {
      "model_module": "ipytree",
      "model_module_version": "0.1.3",
      "model_name": "NodeModel",
      "state": {
       "_id": "f28ff9bd-cc16-4514-a94b-7aecc92a9d6f",
       "_model_module_version": "0.1.3",
       "_view_module_version": "0.1.3",
       "name": "baz",
       "opened": false
      }
     },
     "d5550489bd4644308155d1aaedced674": {
      "model_module": "ipytree",
      "model_module_version": "0.1.3",
      "model_name": "NodeModel",
      "state": {
       "_id": "e35f9e3b-8e53-4d8e-9f98-3e1210863ad3",
       "_model_module_version": "0.1.3",
       "_view_module_version": "0.1.3",
       "name": "baz",
       "opened": false
      }
     },
     "d575fac6de2440a6920b2af3cdb8ca1c": {
      "model_module": "ipytree",
      "model_module_version": "0.1.3",
      "model_name": "NodeModel",
      "state": {
       "_id": "a14762b6-1f4e-450f-b1fc-035e56bf0578",
       "_model_module_version": "0.1.3",
       "_view_module_version": "0.1.3",
       "icon": "table",
       "name": "bbb (100, 100) int32",
       "opened": false
      }
     },
     "d73e87ca007e4a2b9dac7cb896844129": {
      "model_module": "ipytree",
      "model_module_version": "0.1.3",
      "model_name": "NodeModel",
      "state": {
       "_id": "b1ac8f30-fc4d-4df9-b67a-26976c4f4ba0",
       "_model_module_version": "0.1.3",
       "_view_module_version": "0.1.3",
       "icon": "jstree-file",
       "name": "yyy (100, 100) int32",
       "opened": false
      }
     },
     "d8d246ec3c8a472e8ac013cfffb2c4ad": {
      "model_module": "ipytree",
      "model_module_version": "0.1.3",
      "model_name": "NodeModel",
      "state": {
       "_id": "873bf255-acf9-48f9-ae48-049cd1c67328",
       "_model_module_version": "0.1.3",
       "_view_module_version": "0.1.3",
       "icon": "table",
       "name": "yyy (100, 100) int32",
       "opened": false
      }
     },
     "d9ba5be25ab84f18bffc02b02a9a30c9": {
      "model_module": "ipytree",
      "model_module_version": "0.1.3",
      "model_name": "NodeModel",
      "state": {
       "_id": "5e6298dd-6b74-4a7e-bb98-db0b1f90c593",
       "_model_module_version": "0.1.3",
       "_view_module_version": "0.1.3",
       "name": "/",
       "nodes": [
        "IPY_MODEL_20fcb7598d754ae0ba8b55ef94abbd9d",
        "IPY_MODEL_bcd01f8007864c93a69075b46b387e4f"
       ]
      }
     },
     "db0861b45e60485789d2982c37abe833": {
      "model_module": "ipytree",
      "model_module_version": "0.1.3",
      "model_name": "NodeModel",
      "state": {
       "_id": "a0a557a9-ecca-4b41-8b12-c33b9b4654cc",
       "_model_module_version": "0.1.3",
       "_view_module_version": "0.1.3",
       "icon": "jstree-folder",
       "name": "zoo",
       "opened": false
      }
     },
     "dcac674cb75341358cd6db745b412423": {
      "model_module": "ipytree",
      "model_module_version": "0.1.3",
      "model_name": "TreeModel",
      "state": {
       "_model_module_version": "0.1.3",
       "_view_module_version": "0.1.3",
       "layout": "IPY_MODEL_a9cdbdd386a146f286f5a46564dd49c3",
       "nodes": [
        "IPY_MODEL_dd6fdc1adff14ab3a71e67d1eb6179a9"
       ]
      }
     },
     "dd2bfa63c5e642cd837cb0be64cc50ca": {
      "model_module": "ipytree",
      "model_module_version": "0.1.3",
      "model_name": "NodeModel",
      "state": {
       "_id": "b66af4a7-96f5-4f07-aa6e-b9c4cb6f47b6",
       "_model_module_version": "0.1.3",
       "_view_module_version": "0.1.3",
       "icon": "fa fa-space-shuttle",
       "name": "bbb (100, 100) int32",
       "opened": false
      }
     },
     "dd6fdc1adff14ab3a71e67d1eb6179a9": {
      "model_module": "ipytree",
      "model_module_version": "0.1.3",
      "model_name": "NodeModel",
      "state": {
       "_id": "a4b0c603-d2bc-4d32-bb55-7f24c81a35e5",
       "_model_module_version": "0.1.3",
       "_view_module_version": "0.1.3",
       "name": "/",
       "nodes": [
        "IPY_MODEL_8599b9c56358464fb0b150dfd6779b64",
        "IPY_MODEL_ff51564b23e34ea4b52fa5197551bab3"
       ]
      }
     },
     "dd7597a791fc45fcb6fec2bb3495382a": {
      "model_module": "ipytree",
      "model_module_version": "0.1.3",
      "model_name": "NodeModel",
      "state": {
       "_id": "eb57a01b-7acb-442f-b29b-9363155685c3",
       "_model_module_version": "0.1.3",
       "_view_module_version": "0.1.3",
       "icon": "table",
       "name": "xxx (100,) float64",
       "opened": false
      }
     },
     "defdc1dabffc4f3193a5501540e21977": {
      "model_module": "ipytree",
      "model_module_version": "0.1.3",
      "model_name": "NodeModel",
      "state": {
       "_id": "5848f556-e9c3-46b0-b967-4111f528a6bf",
       "_model_module_version": "0.1.3",
       "_view_module_version": "0.1.3",
       "icon": "fa fa-star-o",
       "name": "bar",
       "nodes": [
        "IPY_MODEL_5f36ee60da48427bbfe5390f33be5e33",
        "IPY_MODEL_95f6e4b081134b38bfd3ed3f8cfee88f",
        "IPY_MODEL_0a3bd7003bb74c27a6794239e45dfca8",
        "IPY_MODEL_2f09d0cac5794fa1bdf8d43b2128fad8",
        "IPY_MODEL_2311fab0805c4676a88e2a47f3f3391d"
       ]
      }
     },
     "e45a6160d94f444eaa56235b085f158f": {
      "model_module": "ipytree",
      "model_module_version": "0.1.3",
      "model_name": "NodeModel",
      "state": {
       "_id": "648e48e1-96a8-4db1-8312-1364e0f1c92a",
       "_model_module_version": "0.1.3",
       "_view_module_version": "0.1.3",
       "name": "zoo",
       "opened": false
      }
     },
     "e534743c5b984e7ab64e2ba1a2dd6f68": {
      "model_module": "ipytree",
      "model_module_version": "0.1.3",
      "model_name": "NodeModel",
      "state": {
       "_id": "6ddbdd93-f5bd-4f7a-bec3-ec6d47eace3f",
       "_model_module_version": "0.1.3",
       "_view_module_version": "0.1.3",
       "icon": "table",
       "name": "yyy (100, 100) int32",
       "opened": false
      }
     },
     "e6beb38e47e242608872b065dbae7efd": {
      "model_module": "ipytree",
      "model_module_version": "0.1.3",
      "model_name": "NodeModel",
      "state": {
       "_id": "655a8ef7-a2b5-4ee4-82e1-aef6dce293c0",
       "_model_module_version": "0.1.3",
       "_view_module_version": "0.1.3",
       "icon": "jstree-folder",
       "name": "bar",
       "nodes": [
        "IPY_MODEL_1bf3ecc00c3047ad9a9b119936e190d5",
        "IPY_MODEL_a45754fd31274b3eb3457b0351bb5452",
        "IPY_MODEL_5a62ca5d66344e459dbe706f77d2fd29",
        "IPY_MODEL_d73e87ca007e4a2b9dac7cb896844129",
        "IPY_MODEL_db0861b45e60485789d2982c37abe833"
       ]
      }
     },
     "e78bbc293d5c4261982a27389a785af7": {
      "model_module": "ipytree",
      "model_module_version": "0.1.3",
      "model_name": "NodeModel",
      "state": {
       "_id": "27abb2fb-f91f-4a4e-b8a2-f1f2f93fb938",
       "_model_module_version": "0.1.3",
       "_view_module_version": "0.1.3",
       "icon": "table",
       "name": "bbb (100, 100) int32",
       "opened": false
      }
     },
     "ed80333a84624fada5262db5095b6429": {
      "model_module": "@jupyter-widgets/base",
      "model_module_version": "1.2.0",
      "model_name": "LayoutModel",
      "state": {}
     },
     "f09a8fe28ef244abb08fe6c9d024b1b9": {
      "model_module": "ipytree",
      "model_module_version": "0.1.3",
      "model_name": "NodeModel",
      "state": {
       "_id": "0b5a695f-3e13-4a82-b53b-e28e65f75060",
       "_model_module_version": "0.1.3",
       "_view_module_version": "0.1.3",
       "icon": "table",
       "name": "xxx (100,) float64",
       "opened": false
      }
     },
     "f5da954975b94029844db002547f4323": {
      "model_module": "ipytree",
      "model_module_version": "0.1.3",
      "model_name": "NodeModel",
      "state": {
       "_id": "35e8d9ca-14f5-466e-883b-a839d1824a0f",
       "_model_module_version": "0.1.3",
       "_view_module_version": "0.1.3",
       "icon": "jstree-file",
       "name": "bbb (100, 100) int32",
       "opened": false
      }
     },
     "f69b043c3cd245c5890d792498380a53": {
      "model_module": "ipytree",
      "model_module_version": "0.1.3",
      "model_name": "NodeModel",
      "state": {
       "_id": "a2c7c992-597a-4b6e-93a1-096121a4cedc",
       "_model_module_version": "0.1.3",
       "_view_module_version": "0.1.3",
       "name": "foo",
       "opened": false
      }
     },
     "fa79a0eb33b248388c1a84393d1ed048": {
      "model_module": "ipytree",
      "model_module_version": "0.1.3",
      "model_name": "NodeModel",
      "state": {
       "_id": "28944c4b-9225-49dc-bdba-40430d31206d",
       "_model_module_version": "0.1.3",
       "_view_module_version": "0.1.3",
       "name": "foo"
      }
     },
     "ff51564b23e34ea4b52fa5197551bab3": {
      "model_module": "ipytree",
      "model_module_version": "0.1.3",
      "model_name": "NodeModel",
      "state": {
       "_id": "d2dab652-eb17-41fc-a194-5ac78d5e48b3",
       "_model_module_version": "0.1.3",
       "_view_module_version": "0.1.3",
       "name": "foo"
      }
     }
    },
    "version_major": 2,
    "version_minor": 0
   }
  }
 },
 "nbformat": 4,
 "nbformat_minor": 4
}
